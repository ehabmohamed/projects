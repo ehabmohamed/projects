{
 "cells": [
  {
   "cell_type": "markdown",
   "metadata": {},
   "source": [
    "# TV News Channel Commercial Detection\n",
    "## Dataset Source\n",
    "http://archive.ics.uci.edu/ml/datasets/TV+News+Channel+Commercial+Detection+Dataset"
   ]
  },
  {
   "cell_type": "markdown",
   "metadata": {},
   "source": [
    "### Import Libraries"
   ]
  },
  {
   "cell_type": "code",
   "execution_count": 17,
   "metadata": {
    "collapsed": false
   },
   "outputs": [],
   "source": [
    "%matplotlib inline\n",
    "import matplotlib.pyplot as plt\n",
    "import pandas as pd\n",
    "import numpy as np\n",
    "from sklearn import cross_validation\n",
    "from sklearn import preprocessing\n",
    "from sklearn.preprocessing import StandardScaler\n",
    "from sklearn.datasets import load_svmlight_file\n",
    "from sklearn.decomposition import PCA\n",
    "from sklearn.linear_model import LogisticRegression\n",
    "from sklearn.ensemble import RandomForestClassifier\n",
    "from sklearn.grid_search import GridSearchCV\n",
    "from sklearn.ensemble import GradientBoostingClassifier\n",
    "from sklearn.externals import joblib\n",
    "import requests, zipfile, StringIO\n",
    "from sklearn.metrics import classification_report, f1_score, accuracy_score, confusion_matrix\n",
    "from keras.models import Sequential\n",
    "from keras.callbacks import ModelCheckpoint\n",
    "from keras.layers import Dense\n",
    "from keras.regularizers import l2, l1\n",
    "from keras.optimizers import SGD\n",
    "from keras.utils.np_utils import to_categorical"
   ]
  },
  {
   "cell_type": "markdown",
   "metadata": {},
   "source": [
    "### Download and Read Data"
   ]
  },
  {
   "cell_type": "code",
   "execution_count": 25,
   "metadata": {
    "collapsed": true
   },
   "outputs": [],
   "source": [
    "np.random.seed(1)"
   ]
  },
  {
   "cell_type": "code",
   "execution_count": 5,
   "metadata": {
    "collapsed": false
   },
   "outputs": [
    {
     "name": "stdout",
     "output_type": "stream",
     "text": [
      "Wall time: 3min 45s\n"
     ]
    }
   ],
   "source": [
    "zip_file_url = 'http://archive.ics.uci.edu/ml/machine-learning-databases/00326/TV_News_Channel_Commercial_Detection_Dataset.zip'\n",
    "%time rq = requests.get(zip_file_url)\n",
    "zf = zipfile.ZipFile(StringIO.StringIO(rq.content))"
   ]
  },
  {
   "cell_type": "code",
   "execution_count": 6,
   "metadata": {
    "collapsed": false
   },
   "outputs": [],
   "source": [
    "column_names = ['ShotLength',\n",
    "'MotionDistributionMean',\n",
    "'MotionDistributionVariance',\n",
    "'FrameDifferenceDistributionMean',\n",
    "'FrameDifferenceDistributionVariance',\n",
    "'ShorttimeenergyMean',\n",
    "'ShorttimeenergyVariance',\n",
    "'ZCRMean',\n",
    "'ZCRVariance',\n",
    "'SpectralCentroidMean',\n",
    "'SpectralCentroidVariance',\n",
    "'SpectralRolloffMean',\n",
    "'SpectralRolloffVariance',\n",
    "'SpectralFluxMean',\n",
    "'SpectralFluxVariance',\n",
    "'FundamentalFrequencyMean',\n",
    "'FundamentalFrequencyVariance']\n",
    "[column_names.append('MotionDistribution'+str(c)) for c in range(0,41)]\n",
    "[column_names.append('FrameDifferenceDistribution'+str(c)) for c in range(0,33)]\n",
    "[column_names.append('Textareadistribution'+str(c)) for c in range(0,31)]\n",
    "[column_names.append('BagofAudioWords'+str(c)) for c in range(0,4001)]\n",
    "column_names.append('EdgechangeRatioMean')\n",
    "column_names.append('EdgechangeRatioVariance')"
   ]
  },
  {
   "cell_type": "code",
   "execution_count": 7,
   "metadata": {
    "collapsed": false
   },
   "outputs": [
    {
     "data": {
      "text/plain": [
       "4125"
      ]
     },
     "execution_count": 7,
     "metadata": {},
     "output_type": "execute_result"
    }
   ],
   "source": [
    "len(column_names)"
   ]
  },
  {
   "cell_type": "code",
   "execution_count": 8,
   "metadata": {
    "collapsed": true
   },
   "outputs": [],
   "source": [
    "bbc_X, bbc_y = load_svmlight_file(zf.open('BBC.txt'))\n",
    "cnn_X, cnn_y = load_svmlight_file(zf.open('CNN.txt'))\n",
    "cnnibn_X, cnnibn_y = load_svmlight_file(zf.open('CNNIBN.txt'))\n",
    "ndtv_X, ndtv_y = load_svmlight_file(zf.open('NDTV.txt'))\n",
    "timesnow_X, timesnow_y = load_svmlight_file(zf.open('TIMESNOW.txt'))"
   ]
  },
  {
   "cell_type": "code",
   "execution_count": 32,
   "metadata": {
    "collapsed": false
   },
   "outputs": [],
   "source": [
    "rq.close()\n",
    "zf.close()"
   ]
  },
  {
   "cell_type": "code",
   "execution_count": 9,
   "metadata": {
    "collapsed": false
   },
   "outputs": [],
   "source": [
    "bbc_X = pd.DataFrame(bbc_X.toarray(),columns=column_names)\n",
    "cnn_X = pd.DataFrame(cnn_X.toarray(),columns=column_names)\n",
    "cnnibn_X = pd.DataFrame(cnnibn_X.toarray(),columns=column_names)\n",
    "ndtv_X = pd.DataFrame(ndtv_X.toarray(),columns=column_names)\n",
    "timesnow_X = pd.DataFrame(timesnow_X.toarray(),columns=column_names)"
   ]
  },
  {
   "cell_type": "code",
   "execution_count": 10,
   "metadata": {
    "collapsed": false
   },
   "outputs": [
    {
     "data": {
      "text/html": [
       "<div>\n",
       "<table border=\"1\" class=\"dataframe\">\n",
       "  <thead>\n",
       "    <tr style=\"text-align: right;\">\n",
       "      <th></th>\n",
       "      <th>ShotLength</th>\n",
       "      <th>MotionDistributionMean</th>\n",
       "      <th>MotionDistributionVariance</th>\n",
       "      <th>FrameDifferenceDistributionMean</th>\n",
       "      <th>FrameDifferenceDistributionVariance</th>\n",
       "      <th>ShorttimeenergyMean</th>\n",
       "      <th>ShorttimeenergyVariance</th>\n",
       "      <th>ZCRMean</th>\n",
       "      <th>ZCRVariance</th>\n",
       "      <th>SpectralCentroidMean</th>\n",
       "      <th>...</th>\n",
       "      <th>BagofAudioWords3993</th>\n",
       "      <th>BagofAudioWords3994</th>\n",
       "      <th>BagofAudioWords3995</th>\n",
       "      <th>BagofAudioWords3996</th>\n",
       "      <th>BagofAudioWords3997</th>\n",
       "      <th>BagofAudioWords3998</th>\n",
       "      <th>BagofAudioWords3999</th>\n",
       "      <th>BagofAudioWords4000</th>\n",
       "      <th>EdgechangeRatioMean</th>\n",
       "      <th>EdgechangeRatioVariance</th>\n",
       "    </tr>\n",
       "  </thead>\n",
       "  <tbody>\n",
       "    <tr>\n",
       "      <th>0</th>\n",
       "      <td>123.0</td>\n",
       "      <td>1.316440</td>\n",
       "      <td>1.516003</td>\n",
       "      <td>5.605905</td>\n",
       "      <td>5.346760</td>\n",
       "      <td>0.013233</td>\n",
       "      <td>0.010729</td>\n",
       "      <td>0.091743</td>\n",
       "      <td>0.050768</td>\n",
       "      <td>3808.067871</td>\n",
       "      <td>...</td>\n",
       "      <td>0.0</td>\n",
       "      <td>0.0</td>\n",
       "      <td>0.0</td>\n",
       "      <td>0.0</td>\n",
       "      <td>0.0</td>\n",
       "      <td>0.0</td>\n",
       "      <td>0.0</td>\n",
       "      <td>0.0</td>\n",
       "      <td>0.422334</td>\n",
       "      <td>0.663918</td>\n",
       "    </tr>\n",
       "    <tr>\n",
       "      <th>1</th>\n",
       "      <td>124.0</td>\n",
       "      <td>0.966079</td>\n",
       "      <td>0.546420</td>\n",
       "      <td>4.046537</td>\n",
       "      <td>3.190973</td>\n",
       "      <td>0.008338</td>\n",
       "      <td>0.011490</td>\n",
       "      <td>0.075504</td>\n",
       "      <td>0.065841</td>\n",
       "      <td>3466.266113</td>\n",
       "      <td>...</td>\n",
       "      <td>0.0</td>\n",
       "      <td>0.0</td>\n",
       "      <td>0.0</td>\n",
       "      <td>0.0</td>\n",
       "      <td>0.0</td>\n",
       "      <td>0.0</td>\n",
       "      <td>0.0</td>\n",
       "      <td>0.0</td>\n",
       "      <td>0.332664</td>\n",
       "      <td>0.766184</td>\n",
       "    </tr>\n",
       "    <tr>\n",
       "      <th>2</th>\n",
       "      <td>109.0</td>\n",
       "      <td>2.035407</td>\n",
       "      <td>0.571643</td>\n",
       "      <td>9.551406</td>\n",
       "      <td>5.803685</td>\n",
       "      <td>0.015189</td>\n",
       "      <td>0.014294</td>\n",
       "      <td>0.094209</td>\n",
       "      <td>0.044991</td>\n",
       "      <td>3798.196533</td>\n",
       "      <td>...</td>\n",
       "      <td>0.0</td>\n",
       "      <td>0.0</td>\n",
       "      <td>0.0</td>\n",
       "      <td>0.0</td>\n",
       "      <td>0.0</td>\n",
       "      <td>0.0</td>\n",
       "      <td>0.0</td>\n",
       "      <td>0.0</td>\n",
       "      <td>0.346674</td>\n",
       "      <td>0.225022</td>\n",
       "    </tr>\n",
       "    <tr>\n",
       "      <th>3</th>\n",
       "      <td>86.0</td>\n",
       "      <td>3.206008</td>\n",
       "      <td>0.786326</td>\n",
       "      <td>10.092709</td>\n",
       "      <td>2.693058</td>\n",
       "      <td>0.013962</td>\n",
       "      <td>0.011039</td>\n",
       "      <td>0.092042</td>\n",
       "      <td>0.043756</td>\n",
       "      <td>3761.712402</td>\n",
       "      <td>...</td>\n",
       "      <td>0.0</td>\n",
       "      <td>0.0</td>\n",
       "      <td>0.0</td>\n",
       "      <td>0.0</td>\n",
       "      <td>0.0</td>\n",
       "      <td>0.0</td>\n",
       "      <td>0.0</td>\n",
       "      <td>0.0</td>\n",
       "      <td>0.993323</td>\n",
       "      <td>0.840083</td>\n",
       "    </tr>\n",
       "    <tr>\n",
       "      <th>4</th>\n",
       "      <td>76.0</td>\n",
       "      <td>3.135861</td>\n",
       "      <td>0.896346</td>\n",
       "      <td>10.348035</td>\n",
       "      <td>2.651010</td>\n",
       "      <td>0.020914</td>\n",
       "      <td>0.012061</td>\n",
       "      <td>0.108018</td>\n",
       "      <td>0.052617</td>\n",
       "      <td>3784.488037</td>\n",
       "      <td>...</td>\n",
       "      <td>0.0</td>\n",
       "      <td>0.0</td>\n",
       "      <td>0.0</td>\n",
       "      <td>0.0</td>\n",
       "      <td>0.0</td>\n",
       "      <td>0.0</td>\n",
       "      <td>0.0</td>\n",
       "      <td>0.0</td>\n",
       "      <td>0.341520</td>\n",
       "      <td>0.710470</td>\n",
       "    </tr>\n",
       "  </tbody>\n",
       "</table>\n",
       "<p>5 rows × 4125 columns</p>\n",
       "</div>"
      ],
      "text/plain": [
       "   ShotLength  MotionDistributionMean  MotionDistributionVariance  \\\n",
       "0       123.0                1.316440                    1.516003   \n",
       "1       124.0                0.966079                    0.546420   \n",
       "2       109.0                2.035407                    0.571643   \n",
       "3        86.0                3.206008                    0.786326   \n",
       "4        76.0                3.135861                    0.896346   \n",
       "\n",
       "   FrameDifferenceDistributionMean  FrameDifferenceDistributionVariance  \\\n",
       "0                         5.605905                             5.346760   \n",
       "1                         4.046537                             3.190973   \n",
       "2                         9.551406                             5.803685   \n",
       "3                        10.092709                             2.693058   \n",
       "4                        10.348035                             2.651010   \n",
       "\n",
       "   ShorttimeenergyMean  ShorttimeenergyVariance   ZCRMean  ZCRVariance  \\\n",
       "0             0.013233                 0.010729  0.091743     0.050768   \n",
       "1             0.008338                 0.011490  0.075504     0.065841   \n",
       "2             0.015189                 0.014294  0.094209     0.044991   \n",
       "3             0.013962                 0.011039  0.092042     0.043756   \n",
       "4             0.020914                 0.012061  0.108018     0.052617   \n",
       "\n",
       "   SpectralCentroidMean           ...             BagofAudioWords3993  \\\n",
       "0           3808.067871           ...                             0.0   \n",
       "1           3466.266113           ...                             0.0   \n",
       "2           3798.196533           ...                             0.0   \n",
       "3           3761.712402           ...                             0.0   \n",
       "4           3784.488037           ...                             0.0   \n",
       "\n",
       "   BagofAudioWords3994  BagofAudioWords3995  BagofAudioWords3996  \\\n",
       "0                  0.0                  0.0                  0.0   \n",
       "1                  0.0                  0.0                  0.0   \n",
       "2                  0.0                  0.0                  0.0   \n",
       "3                  0.0                  0.0                  0.0   \n",
       "4                  0.0                  0.0                  0.0   \n",
       "\n",
       "   BagofAudioWords3997  BagofAudioWords3998  BagofAudioWords3999  \\\n",
       "0                  0.0                  0.0                  0.0   \n",
       "1                  0.0                  0.0                  0.0   \n",
       "2                  0.0                  0.0                  0.0   \n",
       "3                  0.0                  0.0                  0.0   \n",
       "4                  0.0                  0.0                  0.0   \n",
       "\n",
       "   BagofAudioWords4000  EdgechangeRatioMean  EdgechangeRatioVariance  \n",
       "0                  0.0             0.422334                 0.663918  \n",
       "1                  0.0             0.332664                 0.766184  \n",
       "2                  0.0             0.346674                 0.225022  \n",
       "3                  0.0             0.993323                 0.840083  \n",
       "4                  0.0             0.341520                 0.710470  \n",
       "\n",
       "[5 rows x 4125 columns]"
      ]
     },
     "execution_count": 10,
     "metadata": {},
     "output_type": "execute_result"
    }
   ],
   "source": [
    "bbc_X.head()"
   ]
  },
  {
   "cell_type": "code",
   "execution_count": 11,
   "metadata": {
    "collapsed": false
   },
   "outputs": [
    {
     "data": {
      "text/html": [
       "<div>\n",
       "<table border=\"1\" class=\"dataframe\">\n",
       "  <thead>\n",
       "    <tr style=\"text-align: right;\">\n",
       "      <th></th>\n",
       "      <th>ShotLength</th>\n",
       "      <th>MotionDistributionMean</th>\n",
       "      <th>MotionDistributionVariance</th>\n",
       "      <th>FrameDifferenceDistributionMean</th>\n",
       "      <th>FrameDifferenceDistributionVariance</th>\n",
       "      <th>ShorttimeenergyMean</th>\n",
       "      <th>ShorttimeenergyVariance</th>\n",
       "      <th>ZCRMean</th>\n",
       "      <th>ZCRVariance</th>\n",
       "      <th>SpectralCentroidMean</th>\n",
       "      <th>...</th>\n",
       "      <th>BagofAudioWords3993</th>\n",
       "      <th>BagofAudioWords3994</th>\n",
       "      <th>BagofAudioWords3995</th>\n",
       "      <th>BagofAudioWords3996</th>\n",
       "      <th>BagofAudioWords3997</th>\n",
       "      <th>BagofAudioWords3998</th>\n",
       "      <th>BagofAudioWords3999</th>\n",
       "      <th>BagofAudioWords4000</th>\n",
       "      <th>EdgechangeRatioMean</th>\n",
       "      <th>EdgechangeRatioVariance</th>\n",
       "    </tr>\n",
       "  </thead>\n",
       "  <tbody>\n",
       "    <tr>\n",
       "      <th>0</th>\n",
       "      <td>29.0</td>\n",
       "      <td>3.821209</td>\n",
       "      <td>1.567568</td>\n",
       "      <td>13.547628</td>\n",
       "      <td>7.242389</td>\n",
       "      <td>0.019883</td>\n",
       "      <td>0.012195</td>\n",
       "      <td>0.067241</td>\n",
       "      <td>0.049107</td>\n",
       "      <td>3406.866211</td>\n",
       "      <td>...</td>\n",
       "      <td>0.0</td>\n",
       "      <td>0.0</td>\n",
       "      <td>0.0</td>\n",
       "      <td>0.0</td>\n",
       "      <td>0.0</td>\n",
       "      <td>0.0</td>\n",
       "      <td>0.0</td>\n",
       "      <td>0.0</td>\n",
       "      <td>0.813823</td>\n",
       "      <td>0.397715</td>\n",
       "    </tr>\n",
       "    <tr>\n",
       "      <th>1</th>\n",
       "      <td>25.0</td>\n",
       "      <td>3.052969</td>\n",
       "      <td>1.641484</td>\n",
       "      <td>22.334589</td>\n",
       "      <td>15.734018</td>\n",
       "      <td>0.023027</td>\n",
       "      <td>0.010731</td>\n",
       "      <td>0.077000</td>\n",
       "      <td>0.045884</td>\n",
       "      <td>3324.158203</td>\n",
       "      <td>...</td>\n",
       "      <td>0.0</td>\n",
       "      <td>0.0</td>\n",
       "      <td>0.0</td>\n",
       "      <td>0.0</td>\n",
       "      <td>0.0</td>\n",
       "      <td>0.0</td>\n",
       "      <td>0.0</td>\n",
       "      <td>0.0</td>\n",
       "      <td>0.171117</td>\n",
       "      <td>0.989377</td>\n",
       "    </tr>\n",
       "    <tr>\n",
       "      <th>2</th>\n",
       "      <td>82.0</td>\n",
       "      <td>1.601274</td>\n",
       "      <td>1.508805</td>\n",
       "      <td>5.860583</td>\n",
       "      <td>3.301121</td>\n",
       "      <td>0.025948</td>\n",
       "      <td>0.006956</td>\n",
       "      <td>0.082317</td>\n",
       "      <td>0.044845</td>\n",
       "      <td>3771.984131</td>\n",
       "      <td>...</td>\n",
       "      <td>0.0</td>\n",
       "      <td>0.0</td>\n",
       "      <td>0.0</td>\n",
       "      <td>0.0</td>\n",
       "      <td>0.0</td>\n",
       "      <td>0.0</td>\n",
       "      <td>0.0</td>\n",
       "      <td>0.0</td>\n",
       "      <td>0.352850</td>\n",
       "      <td>0.848254</td>\n",
       "    </tr>\n",
       "    <tr>\n",
       "      <th>3</th>\n",
       "      <td>25.0</td>\n",
       "      <td>4.819368</td>\n",
       "      <td>2.879584</td>\n",
       "      <td>41.382828</td>\n",
       "      <td>24.448074</td>\n",
       "      <td>0.014387</td>\n",
       "      <td>0.007596</td>\n",
       "      <td>0.069875</td>\n",
       "      <td>0.046916</td>\n",
       "      <td>3301.686035</td>\n",
       "      <td>...</td>\n",
       "      <td>0.0</td>\n",
       "      <td>0.0</td>\n",
       "      <td>0.0</td>\n",
       "      <td>0.0</td>\n",
       "      <td>0.0</td>\n",
       "      <td>0.0</td>\n",
       "      <td>0.0</td>\n",
       "      <td>0.0</td>\n",
       "      <td>0.633264</td>\n",
       "      <td>0.553004</td>\n",
       "    </tr>\n",
       "    <tr>\n",
       "      <th>4</th>\n",
       "      <td>29.0</td>\n",
       "      <td>2.768753</td>\n",
       "      <td>1.797319</td>\n",
       "      <td>13.338054</td>\n",
       "      <td>9.980667</td>\n",
       "      <td>0.011506</td>\n",
       "      <td>0.007269</td>\n",
       "      <td>0.100647</td>\n",
       "      <td>0.067401</td>\n",
       "      <td>3266.021484</td>\n",
       "      <td>...</td>\n",
       "      <td>0.0</td>\n",
       "      <td>0.0</td>\n",
       "      <td>0.0</td>\n",
       "      <td>0.0</td>\n",
       "      <td>0.0</td>\n",
       "      <td>0.0</td>\n",
       "      <td>0.0</td>\n",
       "      <td>0.0</td>\n",
       "      <td>0.529880</td>\n",
       "      <td>0.585360</td>\n",
       "    </tr>\n",
       "  </tbody>\n",
       "</table>\n",
       "<p>5 rows × 4125 columns</p>\n",
       "</div>"
      ],
      "text/plain": [
       "   ShotLength  MotionDistributionMean  MotionDistributionVariance  \\\n",
       "0        29.0                3.821209                    1.567568   \n",
       "1        25.0                3.052969                    1.641484   \n",
       "2        82.0                1.601274                    1.508805   \n",
       "3        25.0                4.819368                    2.879584   \n",
       "4        29.0                2.768753                    1.797319   \n",
       "\n",
       "   FrameDifferenceDistributionMean  FrameDifferenceDistributionVariance  \\\n",
       "0                        13.547628                             7.242389   \n",
       "1                        22.334589                            15.734018   \n",
       "2                         5.860583                             3.301121   \n",
       "3                        41.382828                            24.448074   \n",
       "4                        13.338054                             9.980667   \n",
       "\n",
       "   ShorttimeenergyMean  ShorttimeenergyVariance   ZCRMean  ZCRVariance  \\\n",
       "0             0.019883                 0.012195  0.067241     0.049107   \n",
       "1             0.023027                 0.010731  0.077000     0.045884   \n",
       "2             0.025948                 0.006956  0.082317     0.044845   \n",
       "3             0.014387                 0.007596  0.069875     0.046916   \n",
       "4             0.011506                 0.007269  0.100647     0.067401   \n",
       "\n",
       "   SpectralCentroidMean           ...             BagofAudioWords3993  \\\n",
       "0           3406.866211           ...                             0.0   \n",
       "1           3324.158203           ...                             0.0   \n",
       "2           3771.984131           ...                             0.0   \n",
       "3           3301.686035           ...                             0.0   \n",
       "4           3266.021484           ...                             0.0   \n",
       "\n",
       "   BagofAudioWords3994  BagofAudioWords3995  BagofAudioWords3996  \\\n",
       "0                  0.0                  0.0                  0.0   \n",
       "1                  0.0                  0.0                  0.0   \n",
       "2                  0.0                  0.0                  0.0   \n",
       "3                  0.0                  0.0                  0.0   \n",
       "4                  0.0                  0.0                  0.0   \n",
       "\n",
       "   BagofAudioWords3997  BagofAudioWords3998  BagofAudioWords3999  \\\n",
       "0                  0.0                  0.0                  0.0   \n",
       "1                  0.0                  0.0                  0.0   \n",
       "2                  0.0                  0.0                  0.0   \n",
       "3                  0.0                  0.0                  0.0   \n",
       "4                  0.0                  0.0                  0.0   \n",
       "\n",
       "   BagofAudioWords4000  EdgechangeRatioMean  EdgechangeRatioVariance  \n",
       "0                  0.0             0.813823                 0.397715  \n",
       "1                  0.0             0.171117                 0.989377  \n",
       "2                  0.0             0.352850                 0.848254  \n",
       "3                  0.0             0.633264                 0.553004  \n",
       "4                  0.0             0.529880                 0.585360  \n",
       "\n",
       "[5 rows x 4125 columns]"
      ]
     },
     "execution_count": 11,
     "metadata": {},
     "output_type": "execute_result"
    }
   ],
   "source": [
    "cnn_X.head()"
   ]
  },
  {
   "cell_type": "code",
   "execution_count": 12,
   "metadata": {
    "collapsed": false
   },
   "outputs": [
    {
     "data": {
      "text/html": [
       "<div>\n",
       "<table border=\"1\" class=\"dataframe\">\n",
       "  <thead>\n",
       "    <tr style=\"text-align: right;\">\n",
       "      <th></th>\n",
       "      <th>ShotLength</th>\n",
       "      <th>MotionDistributionMean</th>\n",
       "      <th>MotionDistributionVariance</th>\n",
       "      <th>FrameDifferenceDistributionMean</th>\n",
       "      <th>FrameDifferenceDistributionVariance</th>\n",
       "      <th>ShorttimeenergyMean</th>\n",
       "      <th>ShorttimeenergyVariance</th>\n",
       "      <th>ZCRMean</th>\n",
       "      <th>ZCRVariance</th>\n",
       "      <th>SpectralCentroidMean</th>\n",
       "      <th>...</th>\n",
       "      <th>BagofAudioWords3993</th>\n",
       "      <th>BagofAudioWords3994</th>\n",
       "      <th>BagofAudioWords3995</th>\n",
       "      <th>BagofAudioWords3996</th>\n",
       "      <th>BagofAudioWords3997</th>\n",
       "      <th>BagofAudioWords3998</th>\n",
       "      <th>BagofAudioWords3999</th>\n",
       "      <th>BagofAudioWords4000</th>\n",
       "      <th>EdgechangeRatioMean</th>\n",
       "      <th>EdgechangeRatioVariance</th>\n",
       "    </tr>\n",
       "  </thead>\n",
       "  <tbody>\n",
       "    <tr>\n",
       "      <th>0</th>\n",
       "      <td>29.0</td>\n",
       "      <td>3.821209</td>\n",
       "      <td>1.567568</td>\n",
       "      <td>13.547628</td>\n",
       "      <td>7.242389</td>\n",
       "      <td>0.019883</td>\n",
       "      <td>0.012195</td>\n",
       "      <td>0.067241</td>\n",
       "      <td>0.049107</td>\n",
       "      <td>3406.866211</td>\n",
       "      <td>...</td>\n",
       "      <td>0.0</td>\n",
       "      <td>0.0</td>\n",
       "      <td>0.0</td>\n",
       "      <td>0.0</td>\n",
       "      <td>0.0</td>\n",
       "      <td>0.0</td>\n",
       "      <td>0.0</td>\n",
       "      <td>0.0</td>\n",
       "      <td>0.810875</td>\n",
       "      <td>0.872424</td>\n",
       "    </tr>\n",
       "    <tr>\n",
       "      <th>1</th>\n",
       "      <td>25.0</td>\n",
       "      <td>3.052969</td>\n",
       "      <td>1.641484</td>\n",
       "      <td>22.334589</td>\n",
       "      <td>15.734018</td>\n",
       "      <td>0.023027</td>\n",
       "      <td>0.010731</td>\n",
       "      <td>0.077000</td>\n",
       "      <td>0.045884</td>\n",
       "      <td>3324.158203</td>\n",
       "      <td>...</td>\n",
       "      <td>0.0</td>\n",
       "      <td>0.0</td>\n",
       "      <td>0.0</td>\n",
       "      <td>0.0</td>\n",
       "      <td>0.0</td>\n",
       "      <td>0.0</td>\n",
       "      <td>0.0</td>\n",
       "      <td>0.0</td>\n",
       "      <td>0.298856</td>\n",
       "      <td>0.337749</td>\n",
       "    </tr>\n",
       "    <tr>\n",
       "      <th>2</th>\n",
       "      <td>82.0</td>\n",
       "      <td>1.601274</td>\n",
       "      <td>1.508805</td>\n",
       "      <td>5.860583</td>\n",
       "      <td>3.301121</td>\n",
       "      <td>0.025948</td>\n",
       "      <td>0.006956</td>\n",
       "      <td>0.082317</td>\n",
       "      <td>0.044845</td>\n",
       "      <td>3771.984131</td>\n",
       "      <td>...</td>\n",
       "      <td>0.0</td>\n",
       "      <td>0.0</td>\n",
       "      <td>0.0</td>\n",
       "      <td>0.0</td>\n",
       "      <td>0.0</td>\n",
       "      <td>0.0</td>\n",
       "      <td>0.0</td>\n",
       "      <td>0.0</td>\n",
       "      <td>0.266423</td>\n",
       "      <td>0.702988</td>\n",
       "    </tr>\n",
       "    <tr>\n",
       "      <th>3</th>\n",
       "      <td>25.0</td>\n",
       "      <td>4.819368</td>\n",
       "      <td>2.879584</td>\n",
       "      <td>41.382828</td>\n",
       "      <td>24.448074</td>\n",
       "      <td>0.014387</td>\n",
       "      <td>0.007596</td>\n",
       "      <td>0.069875</td>\n",
       "      <td>0.046916</td>\n",
       "      <td>3301.686035</td>\n",
       "      <td>...</td>\n",
       "      <td>0.0</td>\n",
       "      <td>0.0</td>\n",
       "      <td>0.0</td>\n",
       "      <td>0.0</td>\n",
       "      <td>0.0</td>\n",
       "      <td>0.0</td>\n",
       "      <td>0.0</td>\n",
       "      <td>0.0</td>\n",
       "      <td>0.545639</td>\n",
       "      <td>0.674878</td>\n",
       "    </tr>\n",
       "    <tr>\n",
       "      <th>4</th>\n",
       "      <td>29.0</td>\n",
       "      <td>2.768753</td>\n",
       "      <td>1.797319</td>\n",
       "      <td>13.338054</td>\n",
       "      <td>9.980667</td>\n",
       "      <td>0.011506</td>\n",
       "      <td>0.007269</td>\n",
       "      <td>0.100647</td>\n",
       "      <td>0.067401</td>\n",
       "      <td>3266.021484</td>\n",
       "      <td>...</td>\n",
       "      <td>0.0</td>\n",
       "      <td>0.0</td>\n",
       "      <td>0.0</td>\n",
       "      <td>0.0</td>\n",
       "      <td>0.0</td>\n",
       "      <td>0.0</td>\n",
       "      <td>0.0</td>\n",
       "      <td>0.0</td>\n",
       "      <td>0.121416</td>\n",
       "      <td>0.202685</td>\n",
       "    </tr>\n",
       "  </tbody>\n",
       "</table>\n",
       "<p>5 rows × 4125 columns</p>\n",
       "</div>"
      ],
      "text/plain": [
       "   ShotLength  MotionDistributionMean  MotionDistributionVariance  \\\n",
       "0        29.0                3.821209                    1.567568   \n",
       "1        25.0                3.052969                    1.641484   \n",
       "2        82.0                1.601274                    1.508805   \n",
       "3        25.0                4.819368                    2.879584   \n",
       "4        29.0                2.768753                    1.797319   \n",
       "\n",
       "   FrameDifferenceDistributionMean  FrameDifferenceDistributionVariance  \\\n",
       "0                        13.547628                             7.242389   \n",
       "1                        22.334589                            15.734018   \n",
       "2                         5.860583                             3.301121   \n",
       "3                        41.382828                            24.448074   \n",
       "4                        13.338054                             9.980667   \n",
       "\n",
       "   ShorttimeenergyMean  ShorttimeenergyVariance   ZCRMean  ZCRVariance  \\\n",
       "0             0.019883                 0.012195  0.067241     0.049107   \n",
       "1             0.023027                 0.010731  0.077000     0.045884   \n",
       "2             0.025948                 0.006956  0.082317     0.044845   \n",
       "3             0.014387                 0.007596  0.069875     0.046916   \n",
       "4             0.011506                 0.007269  0.100647     0.067401   \n",
       "\n",
       "   SpectralCentroidMean           ...             BagofAudioWords3993  \\\n",
       "0           3406.866211           ...                             0.0   \n",
       "1           3324.158203           ...                             0.0   \n",
       "2           3771.984131           ...                             0.0   \n",
       "3           3301.686035           ...                             0.0   \n",
       "4           3266.021484           ...                             0.0   \n",
       "\n",
       "   BagofAudioWords3994  BagofAudioWords3995  BagofAudioWords3996  \\\n",
       "0                  0.0                  0.0                  0.0   \n",
       "1                  0.0                  0.0                  0.0   \n",
       "2                  0.0                  0.0                  0.0   \n",
       "3                  0.0                  0.0                  0.0   \n",
       "4                  0.0                  0.0                  0.0   \n",
       "\n",
       "   BagofAudioWords3997  BagofAudioWords3998  BagofAudioWords3999  \\\n",
       "0                  0.0                  0.0                  0.0   \n",
       "1                  0.0                  0.0                  0.0   \n",
       "2                  0.0                  0.0                  0.0   \n",
       "3                  0.0                  0.0                  0.0   \n",
       "4                  0.0                  0.0                  0.0   \n",
       "\n",
       "   BagofAudioWords4000  EdgechangeRatioMean  EdgechangeRatioVariance  \n",
       "0                  0.0             0.810875                 0.872424  \n",
       "1                  0.0             0.298856                 0.337749  \n",
       "2                  0.0             0.266423                 0.702988  \n",
       "3                  0.0             0.545639                 0.674878  \n",
       "4                  0.0             0.121416                 0.202685  \n",
       "\n",
       "[5 rows x 4125 columns]"
      ]
     },
     "execution_count": 12,
     "metadata": {},
     "output_type": "execute_result"
    }
   ],
   "source": [
    "cnnibn_X.head()"
   ]
  },
  {
   "cell_type": "code",
   "execution_count": 13,
   "metadata": {
    "collapsed": false,
    "scrolled": true
   },
   "outputs": [
    {
     "data": {
      "text/html": [
       "<div>\n",
       "<table border=\"1\" class=\"dataframe\">\n",
       "  <thead>\n",
       "    <tr style=\"text-align: right;\">\n",
       "      <th></th>\n",
       "      <th>ShotLength</th>\n",
       "      <th>MotionDistributionMean</th>\n",
       "      <th>MotionDistributionVariance</th>\n",
       "      <th>FrameDifferenceDistributionMean</th>\n",
       "      <th>FrameDifferenceDistributionVariance</th>\n",
       "      <th>ShorttimeenergyMean</th>\n",
       "      <th>ShorttimeenergyVariance</th>\n",
       "      <th>ZCRMean</th>\n",
       "      <th>ZCRVariance</th>\n",
       "      <th>SpectralCentroidMean</th>\n",
       "      <th>...</th>\n",
       "      <th>BagofAudioWords3993</th>\n",
       "      <th>BagofAudioWords3994</th>\n",
       "      <th>BagofAudioWords3995</th>\n",
       "      <th>BagofAudioWords3996</th>\n",
       "      <th>BagofAudioWords3997</th>\n",
       "      <th>BagofAudioWords3998</th>\n",
       "      <th>BagofAudioWords3999</th>\n",
       "      <th>BagofAudioWords4000</th>\n",
       "      <th>EdgechangeRatioMean</th>\n",
       "      <th>EdgechangeRatioVariance</th>\n",
       "    </tr>\n",
       "  </thead>\n",
       "  <tbody>\n",
       "    <tr>\n",
       "      <th>0</th>\n",
       "      <td>29.0</td>\n",
       "      <td>3.821209</td>\n",
       "      <td>1.567568</td>\n",
       "      <td>13.547628</td>\n",
       "      <td>7.242389</td>\n",
       "      <td>0.019883</td>\n",
       "      <td>0.012195</td>\n",
       "      <td>0.067241</td>\n",
       "      <td>0.049107</td>\n",
       "      <td>3406.866211</td>\n",
       "      <td>...</td>\n",
       "      <td>0.0</td>\n",
       "      <td>0.0</td>\n",
       "      <td>0.0</td>\n",
       "      <td>0.0</td>\n",
       "      <td>0.0</td>\n",
       "      <td>0.0</td>\n",
       "      <td>0.0</td>\n",
       "      <td>0.0</td>\n",
       "      <td>0.524255</td>\n",
       "      <td>0.866498</td>\n",
       "    </tr>\n",
       "    <tr>\n",
       "      <th>1</th>\n",
       "      <td>25.0</td>\n",
       "      <td>3.052969</td>\n",
       "      <td>1.641484</td>\n",
       "      <td>22.334589</td>\n",
       "      <td>15.734018</td>\n",
       "      <td>0.023027</td>\n",
       "      <td>0.010731</td>\n",
       "      <td>0.077000</td>\n",
       "      <td>0.045884</td>\n",
       "      <td>3324.158203</td>\n",
       "      <td>...</td>\n",
       "      <td>0.0</td>\n",
       "      <td>0.0</td>\n",
       "      <td>0.0</td>\n",
       "      <td>0.0</td>\n",
       "      <td>0.0</td>\n",
       "      <td>0.0</td>\n",
       "      <td>0.0</td>\n",
       "      <td>0.0</td>\n",
       "      <td>0.072369</td>\n",
       "      <td>0.534711</td>\n",
       "    </tr>\n",
       "    <tr>\n",
       "      <th>2</th>\n",
       "      <td>82.0</td>\n",
       "      <td>1.601274</td>\n",
       "      <td>1.508805</td>\n",
       "      <td>5.860583</td>\n",
       "      <td>3.301121</td>\n",
       "      <td>0.025948</td>\n",
       "      <td>0.006956</td>\n",
       "      <td>0.082317</td>\n",
       "      <td>0.044845</td>\n",
       "      <td>3771.984131</td>\n",
       "      <td>...</td>\n",
       "      <td>0.0</td>\n",
       "      <td>0.0</td>\n",
       "      <td>0.0</td>\n",
       "      <td>0.0</td>\n",
       "      <td>0.0</td>\n",
       "      <td>0.0</td>\n",
       "      <td>0.0</td>\n",
       "      <td>0.0</td>\n",
       "      <td>0.552685</td>\n",
       "      <td>0.918764</td>\n",
       "    </tr>\n",
       "    <tr>\n",
       "      <th>3</th>\n",
       "      <td>25.0</td>\n",
       "      <td>4.819368</td>\n",
       "      <td>2.879584</td>\n",
       "      <td>41.382828</td>\n",
       "      <td>24.448074</td>\n",
       "      <td>0.014387</td>\n",
       "      <td>0.007596</td>\n",
       "      <td>0.069875</td>\n",
       "      <td>0.046916</td>\n",
       "      <td>3301.686035</td>\n",
       "      <td>...</td>\n",
       "      <td>0.0</td>\n",
       "      <td>0.0</td>\n",
       "      <td>0.0</td>\n",
       "      <td>0.0</td>\n",
       "      <td>0.0</td>\n",
       "      <td>0.0</td>\n",
       "      <td>0.0</td>\n",
       "      <td>0.0</td>\n",
       "      <td>0.117911</td>\n",
       "      <td>0.223210</td>\n",
       "    </tr>\n",
       "    <tr>\n",
       "      <th>4</th>\n",
       "      <td>29.0</td>\n",
       "      <td>2.768753</td>\n",
       "      <td>1.797319</td>\n",
       "      <td>13.338054</td>\n",
       "      <td>9.980667</td>\n",
       "      <td>0.011506</td>\n",
       "      <td>0.007269</td>\n",
       "      <td>0.100647</td>\n",
       "      <td>0.067401</td>\n",
       "      <td>3266.021484</td>\n",
       "      <td>...</td>\n",
       "      <td>0.0</td>\n",
       "      <td>0.0</td>\n",
       "      <td>0.0</td>\n",
       "      <td>0.0</td>\n",
       "      <td>0.0</td>\n",
       "      <td>0.0</td>\n",
       "      <td>0.0</td>\n",
       "      <td>0.0</td>\n",
       "      <td>0.529581</td>\n",
       "      <td>0.968130</td>\n",
       "    </tr>\n",
       "  </tbody>\n",
       "</table>\n",
       "<p>5 rows × 4125 columns</p>\n",
       "</div>"
      ],
      "text/plain": [
       "   ShotLength  MotionDistributionMean  MotionDistributionVariance  \\\n",
       "0        29.0                3.821209                    1.567568   \n",
       "1        25.0                3.052969                    1.641484   \n",
       "2        82.0                1.601274                    1.508805   \n",
       "3        25.0                4.819368                    2.879584   \n",
       "4        29.0                2.768753                    1.797319   \n",
       "\n",
       "   FrameDifferenceDistributionMean  FrameDifferenceDistributionVariance  \\\n",
       "0                        13.547628                             7.242389   \n",
       "1                        22.334589                            15.734018   \n",
       "2                         5.860583                             3.301121   \n",
       "3                        41.382828                            24.448074   \n",
       "4                        13.338054                             9.980667   \n",
       "\n",
       "   ShorttimeenergyMean  ShorttimeenergyVariance   ZCRMean  ZCRVariance  \\\n",
       "0             0.019883                 0.012195  0.067241     0.049107   \n",
       "1             0.023027                 0.010731  0.077000     0.045884   \n",
       "2             0.025948                 0.006956  0.082317     0.044845   \n",
       "3             0.014387                 0.007596  0.069875     0.046916   \n",
       "4             0.011506                 0.007269  0.100647     0.067401   \n",
       "\n",
       "   SpectralCentroidMean           ...             BagofAudioWords3993  \\\n",
       "0           3406.866211           ...                             0.0   \n",
       "1           3324.158203           ...                             0.0   \n",
       "2           3771.984131           ...                             0.0   \n",
       "3           3301.686035           ...                             0.0   \n",
       "4           3266.021484           ...                             0.0   \n",
       "\n",
       "   BagofAudioWords3994  BagofAudioWords3995  BagofAudioWords3996  \\\n",
       "0                  0.0                  0.0                  0.0   \n",
       "1                  0.0                  0.0                  0.0   \n",
       "2                  0.0                  0.0                  0.0   \n",
       "3                  0.0                  0.0                  0.0   \n",
       "4                  0.0                  0.0                  0.0   \n",
       "\n",
       "   BagofAudioWords3997  BagofAudioWords3998  BagofAudioWords3999  \\\n",
       "0                  0.0                  0.0                  0.0   \n",
       "1                  0.0                  0.0                  0.0   \n",
       "2                  0.0                  0.0                  0.0   \n",
       "3                  0.0                  0.0                  0.0   \n",
       "4                  0.0                  0.0                  0.0   \n",
       "\n",
       "   BagofAudioWords4000  EdgechangeRatioMean  EdgechangeRatioVariance  \n",
       "0                  0.0             0.524255                 0.866498  \n",
       "1                  0.0             0.072369                 0.534711  \n",
       "2                  0.0             0.552685                 0.918764  \n",
       "3                  0.0             0.117911                 0.223210  \n",
       "4                  0.0             0.529581                 0.968130  \n",
       "\n",
       "[5 rows x 4125 columns]"
      ]
     },
     "execution_count": 13,
     "metadata": {},
     "output_type": "execute_result"
    }
   ],
   "source": [
    "ndtv_X.head()"
   ]
  },
  {
   "cell_type": "code",
   "execution_count": 14,
   "metadata": {
    "collapsed": false
   },
   "outputs": [
    {
     "data": {
      "text/html": [
       "<div>\n",
       "<table border=\"1\" class=\"dataframe\">\n",
       "  <thead>\n",
       "    <tr style=\"text-align: right;\">\n",
       "      <th></th>\n",
       "      <th>ShotLength</th>\n",
       "      <th>MotionDistributionMean</th>\n",
       "      <th>MotionDistributionVariance</th>\n",
       "      <th>FrameDifferenceDistributionMean</th>\n",
       "      <th>FrameDifferenceDistributionVariance</th>\n",
       "      <th>ShorttimeenergyMean</th>\n",
       "      <th>ShorttimeenergyVariance</th>\n",
       "      <th>ZCRMean</th>\n",
       "      <th>ZCRVariance</th>\n",
       "      <th>SpectralCentroidMean</th>\n",
       "      <th>...</th>\n",
       "      <th>BagofAudioWords3993</th>\n",
       "      <th>BagofAudioWords3994</th>\n",
       "      <th>BagofAudioWords3995</th>\n",
       "      <th>BagofAudioWords3996</th>\n",
       "      <th>BagofAudioWords3997</th>\n",
       "      <th>BagofAudioWords3998</th>\n",
       "      <th>BagofAudioWords3999</th>\n",
       "      <th>BagofAudioWords4000</th>\n",
       "      <th>EdgechangeRatioMean</th>\n",
       "      <th>EdgechangeRatioVariance</th>\n",
       "    </tr>\n",
       "  </thead>\n",
       "  <tbody>\n",
       "    <tr>\n",
       "      <th>0</th>\n",
       "      <td>34.0</td>\n",
       "      <td>7.221330</td>\n",
       "      <td>3.191483</td>\n",
       "      <td>23.518745</td>\n",
       "      <td>11.492748</td>\n",
       "      <td>0.012884</td>\n",
       "      <td>0.010939</td>\n",
       "      <td>0.070129</td>\n",
       "      <td>0.042020</td>\n",
       "      <td>3479.684814</td>\n",
       "      <td>...</td>\n",
       "      <td>0.0</td>\n",
       "      <td>0.0</td>\n",
       "      <td>0.0</td>\n",
       "      <td>0.0</td>\n",
       "      <td>0.0</td>\n",
       "      <td>0.0</td>\n",
       "      <td>0.0</td>\n",
       "      <td>0.0</td>\n",
       "      <td>0.340551</td>\n",
       "      <td>0.263356</td>\n",
       "    </tr>\n",
       "    <tr>\n",
       "      <th>1</th>\n",
       "      <td>26.0</td>\n",
       "      <td>6.180094</td>\n",
       "      <td>3.015362</td>\n",
       "      <td>32.932747</td>\n",
       "      <td>18.120752</td>\n",
       "      <td>0.013149</td>\n",
       "      <td>0.010831</td>\n",
       "      <td>0.075000</td>\n",
       "      <td>0.050982</td>\n",
       "      <td>3362.287354</td>\n",
       "      <td>...</td>\n",
       "      <td>0.0</td>\n",
       "      <td>0.0</td>\n",
       "      <td>0.0</td>\n",
       "      <td>0.0</td>\n",
       "      <td>0.0</td>\n",
       "      <td>0.0</td>\n",
       "      <td>0.0</td>\n",
       "      <td>0.0</td>\n",
       "      <td>0.969324</td>\n",
       "      <td>0.623752</td>\n",
       "    </tr>\n",
       "    <tr>\n",
       "      <th>2</th>\n",
       "      <td>25.0</td>\n",
       "      <td>2.462173</td>\n",
       "      <td>1.541003</td>\n",
       "      <td>20.039402</td>\n",
       "      <td>18.033579</td>\n",
       "      <td>0.015869</td>\n",
       "      <td>0.011657</td>\n",
       "      <td>0.062625</td>\n",
       "      <td>0.042195</td>\n",
       "      <td>3317.864746</td>\n",
       "      <td>...</td>\n",
       "      <td>0.0</td>\n",
       "      <td>0.0</td>\n",
       "      <td>0.0</td>\n",
       "      <td>0.0</td>\n",
       "      <td>0.0</td>\n",
       "      <td>0.0</td>\n",
       "      <td>0.0</td>\n",
       "      <td>0.0</td>\n",
       "      <td>0.148112</td>\n",
       "      <td>0.780920</td>\n",
       "    </tr>\n",
       "    <tr>\n",
       "      <th>3</th>\n",
       "      <td>37.0</td>\n",
       "      <td>6.194136</td>\n",
       "      <td>2.658522</td>\n",
       "      <td>22.864201</td>\n",
       "      <td>13.588374</td>\n",
       "      <td>0.017141</td>\n",
       "      <td>0.012120</td>\n",
       "      <td>0.078041</td>\n",
       "      <td>0.072270</td>\n",
       "      <td>3491.640137</td>\n",
       "      <td>...</td>\n",
       "      <td>0.0</td>\n",
       "      <td>0.0</td>\n",
       "      <td>0.0</td>\n",
       "      <td>0.0</td>\n",
       "      <td>0.0</td>\n",
       "      <td>0.0</td>\n",
       "      <td>0.0</td>\n",
       "      <td>0.0</td>\n",
       "      <td>0.746379</td>\n",
       "      <td>0.403130</td>\n",
       "    </tr>\n",
       "    <tr>\n",
       "      <th>4</th>\n",
       "      <td>25.0</td>\n",
       "      <td>4.367200</td>\n",
       "      <td>2.063856</td>\n",
       "      <td>31.797680</td>\n",
       "      <td>14.305157</td>\n",
       "      <td>0.013647</td>\n",
       "      <td>0.013007</td>\n",
       "      <td>0.107625</td>\n",
       "      <td>0.080645</td>\n",
       "      <td>3327.662109</td>\n",
       "      <td>...</td>\n",
       "      <td>0.0</td>\n",
       "      <td>0.0</td>\n",
       "      <td>0.0</td>\n",
       "      <td>0.0</td>\n",
       "      <td>0.0</td>\n",
       "      <td>0.0</td>\n",
       "      <td>0.0</td>\n",
       "      <td>0.0</td>\n",
       "      <td>0.572578</td>\n",
       "      <td>0.588162</td>\n",
       "    </tr>\n",
       "  </tbody>\n",
       "</table>\n",
       "<p>5 rows × 4125 columns</p>\n",
       "</div>"
      ],
      "text/plain": [
       "   ShotLength  MotionDistributionMean  MotionDistributionVariance  \\\n",
       "0        34.0                7.221330                    3.191483   \n",
       "1        26.0                6.180094                    3.015362   \n",
       "2        25.0                2.462173                    1.541003   \n",
       "3        37.0                6.194136                    2.658522   \n",
       "4        25.0                4.367200                    2.063856   \n",
       "\n",
       "   FrameDifferenceDistributionMean  FrameDifferenceDistributionVariance  \\\n",
       "0                        23.518745                            11.492748   \n",
       "1                        32.932747                            18.120752   \n",
       "2                        20.039402                            18.033579   \n",
       "3                        22.864201                            13.588374   \n",
       "4                        31.797680                            14.305157   \n",
       "\n",
       "   ShorttimeenergyMean  ShorttimeenergyVariance   ZCRMean  ZCRVariance  \\\n",
       "0             0.012884                 0.010939  0.070129     0.042020   \n",
       "1             0.013149                 0.010831  0.075000     0.050982   \n",
       "2             0.015869                 0.011657  0.062625     0.042195   \n",
       "3             0.017141                 0.012120  0.078041     0.072270   \n",
       "4             0.013647                 0.013007  0.107625     0.080645   \n",
       "\n",
       "   SpectralCentroidMean           ...             BagofAudioWords3993  \\\n",
       "0           3479.684814           ...                             0.0   \n",
       "1           3362.287354           ...                             0.0   \n",
       "2           3317.864746           ...                             0.0   \n",
       "3           3491.640137           ...                             0.0   \n",
       "4           3327.662109           ...                             0.0   \n",
       "\n",
       "   BagofAudioWords3994  BagofAudioWords3995  BagofAudioWords3996  \\\n",
       "0                  0.0                  0.0                  0.0   \n",
       "1                  0.0                  0.0                  0.0   \n",
       "2                  0.0                  0.0                  0.0   \n",
       "3                  0.0                  0.0                  0.0   \n",
       "4                  0.0                  0.0                  0.0   \n",
       "\n",
       "   BagofAudioWords3997  BagofAudioWords3998  BagofAudioWords3999  \\\n",
       "0                  0.0                  0.0                  0.0   \n",
       "1                  0.0                  0.0                  0.0   \n",
       "2                  0.0                  0.0                  0.0   \n",
       "3                  0.0                  0.0                  0.0   \n",
       "4                  0.0                  0.0                  0.0   \n",
       "\n",
       "   BagofAudioWords4000  EdgechangeRatioMean  EdgechangeRatioVariance  \n",
       "0                  0.0             0.340551                 0.263356  \n",
       "1                  0.0             0.969324                 0.623752  \n",
       "2                  0.0             0.148112                 0.780920  \n",
       "3                  0.0             0.746379                 0.403130  \n",
       "4                  0.0             0.572578                 0.588162  \n",
       "\n",
       "[5 rows x 4125 columns]"
      ]
     },
     "execution_count": 14,
     "metadata": {},
     "output_type": "execute_result"
    }
   ],
   "source": [
    "timesnow_X.head()"
   ]
  },
  {
   "cell_type": "code",
   "execution_count": 15,
   "metadata": {
    "collapsed": false,
    "scrolled": true
   },
   "outputs": [
    {
     "data": {
      "text/plain": [
       "({-1.0, 1.0}, {-1.0, 1.0}, {-1.0, 1.0}, {-1.0, 1.0}, {-1.0, 1.0})"
      ]
     },
     "execution_count": 15,
     "metadata": {},
     "output_type": "execute_result"
    }
   ],
   "source": [
    "set(bbc_y), set(cnn_y), set(cnnibn_y), set(ndtv_y), set(timesnow_y)"
   ]
  },
  {
   "cell_type": "code",
   "execution_count": 16,
   "metadata": {
    "collapsed": false
   },
   "outputs": [
    {
     "name": "stdout",
     "output_type": "stream",
     "text": [
      "BBC Features Shape: (17720, 4125), Y Shape: (17720L,)\n",
      "CNN Features Shape: (22545, 4125), Y Shape: (22545L,)\n",
      "CNNIBN Features Shape: (33117, 4125), Y Shape: (33117L,)\n",
      "NDTV Features Shape: (17051, 4125), Y Shape: (17051L,)\n",
      "TIMESNOW Features Shape: (39252, 4125), Y Shape: (39252L,)\n"
     ]
    }
   ],
   "source": [
    "print 'BBC Features Shape: %s, Y Shape: %s' % (str(bbc_X.shape), str(bbc_y.shape))\n",
    "print 'CNN Features Shape: %s, Y Shape: %s' % (str(cnn_X.shape), str(cnn_y.shape))\n",
    "print 'CNNIBN Features Shape: %s, Y Shape: %s' % (str(cnnibn_X.shape), str(cnnibn_y.shape))\n",
    "print 'NDTV Features Shape: %s, Y Shape: %s' % (str(ndtv_X.shape), str(ndtv_y.shape))\n",
    "print 'TIMESNOW Features Shape: %s, Y Shape: %s' % (str(timesnow_X.shape), str(timesnow_y.shape))"
   ]
  },
  {
   "cell_type": "markdown",
   "metadata": {},
   "source": [
    "### Concatenate Different News Channels Dataframes"
   ]
  },
  {
   "cell_type": "code",
   "execution_count": 17,
   "metadata": {
    "collapsed": false
   },
   "outputs": [
    {
     "data": {
      "text/html": [
       "<div>\n",
       "<table border=\"1\" class=\"dataframe\">\n",
       "  <thead>\n",
       "    <tr style=\"text-align: right;\">\n",
       "      <th></th>\n",
       "      <th></th>\n",
       "      <th>ShotLength</th>\n",
       "      <th>MotionDistributionMean</th>\n",
       "      <th>MotionDistributionVariance</th>\n",
       "      <th>FrameDifferenceDistributionMean</th>\n",
       "      <th>FrameDifferenceDistributionVariance</th>\n",
       "      <th>ShorttimeenergyMean</th>\n",
       "      <th>ShorttimeenergyVariance</th>\n",
       "      <th>ZCRMean</th>\n",
       "      <th>ZCRVariance</th>\n",
       "      <th>SpectralCentroidMean</th>\n",
       "      <th>...</th>\n",
       "      <th>BagofAudioWords3993</th>\n",
       "      <th>BagofAudioWords3994</th>\n",
       "      <th>BagofAudioWords3995</th>\n",
       "      <th>BagofAudioWords3996</th>\n",
       "      <th>BagofAudioWords3997</th>\n",
       "      <th>BagofAudioWords3998</th>\n",
       "      <th>BagofAudioWords3999</th>\n",
       "      <th>BagofAudioWords4000</th>\n",
       "      <th>EdgechangeRatioMean</th>\n",
       "      <th>EdgechangeRatioVariance</th>\n",
       "    </tr>\n",
       "  </thead>\n",
       "  <tbody>\n",
       "    <tr>\n",
       "      <th rowspan=\"5\" valign=\"top\">BBC</th>\n",
       "      <th>0</th>\n",
       "      <td>123.0</td>\n",
       "      <td>1.316440</td>\n",
       "      <td>1.516003</td>\n",
       "      <td>5.605905</td>\n",
       "      <td>5.346760</td>\n",
       "      <td>0.013233</td>\n",
       "      <td>0.010729</td>\n",
       "      <td>0.091743</td>\n",
       "      <td>0.050768</td>\n",
       "      <td>3808.067871</td>\n",
       "      <td>...</td>\n",
       "      <td>0.0</td>\n",
       "      <td>0.0</td>\n",
       "      <td>0.0</td>\n",
       "      <td>0.0</td>\n",
       "      <td>0.0</td>\n",
       "      <td>0.0</td>\n",
       "      <td>0.0</td>\n",
       "      <td>0.0</td>\n",
       "      <td>0.422334</td>\n",
       "      <td>0.663918</td>\n",
       "    </tr>\n",
       "    <tr>\n",
       "      <th>1</th>\n",
       "      <td>124.0</td>\n",
       "      <td>0.966079</td>\n",
       "      <td>0.546420</td>\n",
       "      <td>4.046537</td>\n",
       "      <td>3.190973</td>\n",
       "      <td>0.008338</td>\n",
       "      <td>0.011490</td>\n",
       "      <td>0.075504</td>\n",
       "      <td>0.065841</td>\n",
       "      <td>3466.266113</td>\n",
       "      <td>...</td>\n",
       "      <td>0.0</td>\n",
       "      <td>0.0</td>\n",
       "      <td>0.0</td>\n",
       "      <td>0.0</td>\n",
       "      <td>0.0</td>\n",
       "      <td>0.0</td>\n",
       "      <td>0.0</td>\n",
       "      <td>0.0</td>\n",
       "      <td>0.332664</td>\n",
       "      <td>0.766184</td>\n",
       "    </tr>\n",
       "    <tr>\n",
       "      <th>2</th>\n",
       "      <td>109.0</td>\n",
       "      <td>2.035407</td>\n",
       "      <td>0.571643</td>\n",
       "      <td>9.551406</td>\n",
       "      <td>5.803685</td>\n",
       "      <td>0.015189</td>\n",
       "      <td>0.014294</td>\n",
       "      <td>0.094209</td>\n",
       "      <td>0.044991</td>\n",
       "      <td>3798.196533</td>\n",
       "      <td>...</td>\n",
       "      <td>0.0</td>\n",
       "      <td>0.0</td>\n",
       "      <td>0.0</td>\n",
       "      <td>0.0</td>\n",
       "      <td>0.0</td>\n",
       "      <td>0.0</td>\n",
       "      <td>0.0</td>\n",
       "      <td>0.0</td>\n",
       "      <td>0.346674</td>\n",
       "      <td>0.225022</td>\n",
       "    </tr>\n",
       "    <tr>\n",
       "      <th>3</th>\n",
       "      <td>86.0</td>\n",
       "      <td>3.206008</td>\n",
       "      <td>0.786326</td>\n",
       "      <td>10.092709</td>\n",
       "      <td>2.693058</td>\n",
       "      <td>0.013962</td>\n",
       "      <td>0.011039</td>\n",
       "      <td>0.092042</td>\n",
       "      <td>0.043756</td>\n",
       "      <td>3761.712402</td>\n",
       "      <td>...</td>\n",
       "      <td>0.0</td>\n",
       "      <td>0.0</td>\n",
       "      <td>0.0</td>\n",
       "      <td>0.0</td>\n",
       "      <td>0.0</td>\n",
       "      <td>0.0</td>\n",
       "      <td>0.0</td>\n",
       "      <td>0.0</td>\n",
       "      <td>0.993323</td>\n",
       "      <td>0.840083</td>\n",
       "    </tr>\n",
       "    <tr>\n",
       "      <th>4</th>\n",
       "      <td>76.0</td>\n",
       "      <td>3.135861</td>\n",
       "      <td>0.896346</td>\n",
       "      <td>10.348035</td>\n",
       "      <td>2.651010</td>\n",
       "      <td>0.020914</td>\n",
       "      <td>0.012061</td>\n",
       "      <td>0.108018</td>\n",
       "      <td>0.052617</td>\n",
       "      <td>3784.488037</td>\n",
       "      <td>...</td>\n",
       "      <td>0.0</td>\n",
       "      <td>0.0</td>\n",
       "      <td>0.0</td>\n",
       "      <td>0.0</td>\n",
       "      <td>0.0</td>\n",
       "      <td>0.0</td>\n",
       "      <td>0.0</td>\n",
       "      <td>0.0</td>\n",
       "      <td>0.341520</td>\n",
       "      <td>0.710470</td>\n",
       "    </tr>\n",
       "  </tbody>\n",
       "</table>\n",
       "<p>5 rows × 4125 columns</p>\n",
       "</div>"
      ],
      "text/plain": [
       "       ShotLength  MotionDistributionMean  MotionDistributionVariance  \\\n",
       "BBC 0       123.0                1.316440                    1.516003   \n",
       "    1       124.0                0.966079                    0.546420   \n",
       "    2       109.0                2.035407                    0.571643   \n",
       "    3        86.0                3.206008                    0.786326   \n",
       "    4        76.0                3.135861                    0.896346   \n",
       "\n",
       "       FrameDifferenceDistributionMean  FrameDifferenceDistributionVariance  \\\n",
       "BBC 0                         5.605905                             5.346760   \n",
       "    1                         4.046537                             3.190973   \n",
       "    2                         9.551406                             5.803685   \n",
       "    3                        10.092709                             2.693058   \n",
       "    4                        10.348035                             2.651010   \n",
       "\n",
       "       ShorttimeenergyMean  ShorttimeenergyVariance   ZCRMean  ZCRVariance  \\\n",
       "BBC 0             0.013233                 0.010729  0.091743     0.050768   \n",
       "    1             0.008338                 0.011490  0.075504     0.065841   \n",
       "    2             0.015189                 0.014294  0.094209     0.044991   \n",
       "    3             0.013962                 0.011039  0.092042     0.043756   \n",
       "    4             0.020914                 0.012061  0.108018     0.052617   \n",
       "\n",
       "       SpectralCentroidMean           ...             BagofAudioWords3993  \\\n",
       "BBC 0           3808.067871           ...                             0.0   \n",
       "    1           3466.266113           ...                             0.0   \n",
       "    2           3798.196533           ...                             0.0   \n",
       "    3           3761.712402           ...                             0.0   \n",
       "    4           3784.488037           ...                             0.0   \n",
       "\n",
       "       BagofAudioWords3994  BagofAudioWords3995  BagofAudioWords3996  \\\n",
       "BBC 0                  0.0                  0.0                  0.0   \n",
       "    1                  0.0                  0.0                  0.0   \n",
       "    2                  0.0                  0.0                  0.0   \n",
       "    3                  0.0                  0.0                  0.0   \n",
       "    4                  0.0                  0.0                  0.0   \n",
       "\n",
       "       BagofAudioWords3997  BagofAudioWords3998  BagofAudioWords3999  \\\n",
       "BBC 0                  0.0                  0.0                  0.0   \n",
       "    1                  0.0                  0.0                  0.0   \n",
       "    2                  0.0                  0.0                  0.0   \n",
       "    3                  0.0                  0.0                  0.0   \n",
       "    4                  0.0                  0.0                  0.0   \n",
       "\n",
       "       BagofAudioWords4000  EdgechangeRatioMean  EdgechangeRatioVariance  \n",
       "BBC 0                  0.0             0.422334                 0.663918  \n",
       "    1                  0.0             0.332664                 0.766184  \n",
       "    2                  0.0             0.346674                 0.225022  \n",
       "    3                  0.0             0.993323                 0.840083  \n",
       "    4                  0.0             0.341520                 0.710470  \n",
       "\n",
       "[5 rows x 4125 columns]"
      ]
     },
     "execution_count": 17,
     "metadata": {},
     "output_type": "execute_result"
    }
   ],
   "source": [
    "frames = [bbc_X, cnn_X, cnnibn_X, ndtv_X, timesnow_X]\n",
    "keys = ['BBC', 'CNN', 'CNNIBN', 'NDTV', 'TIMESNOW']\n",
    "X = pd.concat(frames, keys=keys)\n",
    "X.head()"
   ]
  },
  {
   "cell_type": "code",
   "execution_count": 39,
   "metadata": {
    "collapsed": false
   },
   "outputs": [
    {
     "data": {
      "text/plain": [
       "(array([ 1.,  1.,  1., ...,  1.,  1.,  1.]), {0.0, 1.0})"
      ]
     },
     "execution_count": 39,
     "metadata": {},
     "output_type": "execute_result"
    }
   ],
   "source": [
    "y = np.concatenate([bbc_y, cnn_y, cnnibn_y, ndtv_y, timesnow_y])\n",
    "y[y == -1] = 0\n",
    "y, set(y)"
   ]
  },
  {
   "cell_type": "code",
   "execution_count": 19,
   "metadata": {
    "collapsed": false
   },
   "outputs": [
    {
     "name": "stdout",
     "output_type": "stream",
     "text": [
      "X Shape: (129685, 4125), Y Shape: (129685L,)\n"
     ]
    }
   ],
   "source": [
    "print 'X Shape: %s, Y Shape: %s' % (str(X.shape), str(y.shape))"
   ]
  },
  {
   "cell_type": "markdown",
   "metadata": {},
   "source": [
    "### Split Data Into Training and Testing"
   ]
  },
  {
   "cell_type": "code",
   "execution_count": 20,
   "metadata": {
    "collapsed": true
   },
   "outputs": [],
   "source": [
    "X_train, X_test, y_train, y_test = cross_validation.train_test_split(\n",
    "    X, y, test_size=0.2, random_state=5)"
   ]
  },
  {
   "cell_type": "code",
   "execution_count": 21,
   "metadata": {
    "collapsed": false
   },
   "outputs": [
    {
     "data": {
      "text/html": [
       "<div>\n",
       "<table border=\"1\" class=\"dataframe\">\n",
       "  <thead>\n",
       "    <tr style=\"text-align: right;\">\n",
       "      <th></th>\n",
       "      <th></th>\n",
       "      <th>ShotLength</th>\n",
       "      <th>MotionDistributionMean</th>\n",
       "      <th>MotionDistributionVariance</th>\n",
       "      <th>FrameDifferenceDistributionMean</th>\n",
       "      <th>FrameDifferenceDistributionVariance</th>\n",
       "      <th>ShorttimeenergyMean</th>\n",
       "      <th>ShorttimeenergyVariance</th>\n",
       "      <th>ZCRMean</th>\n",
       "      <th>ZCRVariance</th>\n",
       "      <th>SpectralCentroidMean</th>\n",
       "      <th>...</th>\n",
       "      <th>BagofAudioWords3993</th>\n",
       "      <th>BagofAudioWords3994</th>\n",
       "      <th>BagofAudioWords3995</th>\n",
       "      <th>BagofAudioWords3996</th>\n",
       "      <th>BagofAudioWords3997</th>\n",
       "      <th>BagofAudioWords3998</th>\n",
       "      <th>BagofAudioWords3999</th>\n",
       "      <th>BagofAudioWords4000</th>\n",
       "      <th>EdgechangeRatioMean</th>\n",
       "      <th>EdgechangeRatioVariance</th>\n",
       "    </tr>\n",
       "  </thead>\n",
       "  <tbody>\n",
       "    <tr>\n",
       "      <th>BBC</th>\n",
       "      <th>16297</th>\n",
       "      <td>84.0</td>\n",
       "      <td>0.000000</td>\n",
       "      <td>0.000000</td>\n",
       "      <td>0.000000</td>\n",
       "      <td>0.000000</td>\n",
       "      <td>0.000000</td>\n",
       "      <td>0.000000</td>\n",
       "      <td>0.000000</td>\n",
       "      <td>0.000000</td>\n",
       "      <td>0.000000</td>\n",
       "      <td>...</td>\n",
       "      <td>0.0</td>\n",
       "      <td>0.0</td>\n",
       "      <td>0.0</td>\n",
       "      <td>0.0</td>\n",
       "      <td>0.0</td>\n",
       "      <td>0.0</td>\n",
       "      <td>0.0</td>\n",
       "      <td>0.0</td>\n",
       "      <td>0.164792</td>\n",
       "      <td>0.377502</td>\n",
       "    </tr>\n",
       "    <tr>\n",
       "      <th>TIMESNOW</th>\n",
       "      <th>28924</th>\n",
       "      <td>87.0</td>\n",
       "      <td>1.660007</td>\n",
       "      <td>1.170906</td>\n",
       "      <td>10.111513</td>\n",
       "      <td>10.663151</td>\n",
       "      <td>0.027714</td>\n",
       "      <td>0.008381</td>\n",
       "      <td>0.155280</td>\n",
       "      <td>0.078439</td>\n",
       "      <td>3813.393555</td>\n",
       "      <td>...</td>\n",
       "      <td>0.0</td>\n",
       "      <td>0.0</td>\n",
       "      <td>0.0</td>\n",
       "      <td>0.0</td>\n",
       "      <td>0.0</td>\n",
       "      <td>0.0</td>\n",
       "      <td>0.0</td>\n",
       "      <td>0.0</td>\n",
       "      <td>0.129284</td>\n",
       "      <td>0.430381</td>\n",
       "    </tr>\n",
       "    <tr>\n",
       "      <th>NDTV</th>\n",
       "      <th>16548</th>\n",
       "      <td>33.0</td>\n",
       "      <td>1.288321</td>\n",
       "      <td>0.512990</td>\n",
       "      <td>4.388717</td>\n",
       "      <td>1.723355</td>\n",
       "      <td>0.014717</td>\n",
       "      <td>0.005975</td>\n",
       "      <td>0.123769</td>\n",
       "      <td>0.054889</td>\n",
       "      <td>3527.233154</td>\n",
       "      <td>...</td>\n",
       "      <td>0.0</td>\n",
       "      <td>0.0</td>\n",
       "      <td>0.0</td>\n",
       "      <td>0.0</td>\n",
       "      <td>0.0</td>\n",
       "      <td>0.0</td>\n",
       "      <td>0.0</td>\n",
       "      <td>0.0</td>\n",
       "      <td>0.424368</td>\n",
       "      <td>0.285527</td>\n",
       "    </tr>\n",
       "    <tr>\n",
       "      <th>TIMESNOW</th>\n",
       "      <th>21335</th>\n",
       "      <td>30.0</td>\n",
       "      <td>0.963898</td>\n",
       "      <td>0.434633</td>\n",
       "      <td>5.295128</td>\n",
       "      <td>2.200215</td>\n",
       "      <td>0.011461</td>\n",
       "      <td>0.006932</td>\n",
       "      <td>0.069896</td>\n",
       "      <td>0.037906</td>\n",
       "      <td>3439.302734</td>\n",
       "      <td>...</td>\n",
       "      <td>0.0</td>\n",
       "      <td>0.0</td>\n",
       "      <td>0.0</td>\n",
       "      <td>0.0</td>\n",
       "      <td>0.0</td>\n",
       "      <td>0.0</td>\n",
       "      <td>0.0</td>\n",
       "      <td>0.0</td>\n",
       "      <td>0.713471</td>\n",
       "      <td>0.587445</td>\n",
       "    </tr>\n",
       "    <tr>\n",
       "      <th>BBC</th>\n",
       "      <th>9056</th>\n",
       "      <td>25.0</td>\n",
       "      <td>2.162895</td>\n",
       "      <td>0.956978</td>\n",
       "      <td>6.713630</td>\n",
       "      <td>4.289807</td>\n",
       "      <td>0.021163</td>\n",
       "      <td>0.017981</td>\n",
       "      <td>0.089750</td>\n",
       "      <td>0.074987</td>\n",
       "      <td>3324.504395</td>\n",
       "      <td>...</td>\n",
       "      <td>0.0</td>\n",
       "      <td>0.0</td>\n",
       "      <td>0.0</td>\n",
       "      <td>0.0</td>\n",
       "      <td>0.0</td>\n",
       "      <td>0.0</td>\n",
       "      <td>0.0</td>\n",
       "      <td>0.0</td>\n",
       "      <td>0.133040</td>\n",
       "      <td>0.249796</td>\n",
       "    </tr>\n",
       "  </tbody>\n",
       "</table>\n",
       "<p>5 rows × 4125 columns</p>\n",
       "</div>"
      ],
      "text/plain": [
       "                ShotLength  MotionDistributionMean  \\\n",
       "BBC      16297        84.0                0.000000   \n",
       "TIMESNOW 28924        87.0                1.660007   \n",
       "NDTV     16548        33.0                1.288321   \n",
       "TIMESNOW 21335        30.0                0.963898   \n",
       "BBC      9056         25.0                2.162895   \n",
       "\n",
       "                MotionDistributionVariance  FrameDifferenceDistributionMean  \\\n",
       "BBC      16297                    0.000000                         0.000000   \n",
       "TIMESNOW 28924                    1.170906                        10.111513   \n",
       "NDTV     16548                    0.512990                         4.388717   \n",
       "TIMESNOW 21335                    0.434633                         5.295128   \n",
       "BBC      9056                     0.956978                         6.713630   \n",
       "\n",
       "                FrameDifferenceDistributionVariance  ShorttimeenergyMean  \\\n",
       "BBC      16297                             0.000000             0.000000   \n",
       "TIMESNOW 28924                            10.663151             0.027714   \n",
       "NDTV     16548                             1.723355             0.014717   \n",
       "TIMESNOW 21335                             2.200215             0.011461   \n",
       "BBC      9056                              4.289807             0.021163   \n",
       "\n",
       "                ShorttimeenergyVariance   ZCRMean  ZCRVariance  \\\n",
       "BBC      16297                 0.000000  0.000000     0.000000   \n",
       "TIMESNOW 28924                 0.008381  0.155280     0.078439   \n",
       "NDTV     16548                 0.005975  0.123769     0.054889   \n",
       "TIMESNOW 21335                 0.006932  0.069896     0.037906   \n",
       "BBC      9056                  0.017981  0.089750     0.074987   \n",
       "\n",
       "                SpectralCentroidMean           ...             \\\n",
       "BBC      16297              0.000000           ...              \n",
       "TIMESNOW 28924           3813.393555           ...              \n",
       "NDTV     16548           3527.233154           ...              \n",
       "TIMESNOW 21335           3439.302734           ...              \n",
       "BBC      9056            3324.504395           ...              \n",
       "\n",
       "                BagofAudioWords3993  BagofAudioWords3994  BagofAudioWords3995  \\\n",
       "BBC      16297                  0.0                  0.0                  0.0   \n",
       "TIMESNOW 28924                  0.0                  0.0                  0.0   \n",
       "NDTV     16548                  0.0                  0.0                  0.0   \n",
       "TIMESNOW 21335                  0.0                  0.0                  0.0   \n",
       "BBC      9056                   0.0                  0.0                  0.0   \n",
       "\n",
       "                BagofAudioWords3996  BagofAudioWords3997  BagofAudioWords3998  \\\n",
       "BBC      16297                  0.0                  0.0                  0.0   \n",
       "TIMESNOW 28924                  0.0                  0.0                  0.0   \n",
       "NDTV     16548                  0.0                  0.0                  0.0   \n",
       "TIMESNOW 21335                  0.0                  0.0                  0.0   \n",
       "BBC      9056                   0.0                  0.0                  0.0   \n",
       "\n",
       "                BagofAudioWords3999  BagofAudioWords4000  EdgechangeRatioMean  \\\n",
       "BBC      16297                  0.0                  0.0             0.164792   \n",
       "TIMESNOW 28924                  0.0                  0.0             0.129284   \n",
       "NDTV     16548                  0.0                  0.0             0.424368   \n",
       "TIMESNOW 21335                  0.0                  0.0             0.713471   \n",
       "BBC      9056                   0.0                  0.0             0.133040   \n",
       "\n",
       "                EdgechangeRatioVariance  \n",
       "BBC      16297                 0.377502  \n",
       "TIMESNOW 28924                 0.430381  \n",
       "NDTV     16548                 0.285527  \n",
       "TIMESNOW 21335                 0.587445  \n",
       "BBC      9056                  0.249796  \n",
       "\n",
       "[5 rows x 4125 columns]"
      ]
     },
     "execution_count": 21,
     "metadata": {},
     "output_type": "execute_result"
    }
   ],
   "source": [
    "X_train.head()"
   ]
  },
  {
   "cell_type": "code",
   "execution_count": 22,
   "metadata": {
    "collapsed": false
   },
   "outputs": [
    {
     "name": "stdout",
     "output_type": "stream",
     "text": [
      "X_train Shape: (103748, 4125), y_train Shape: (103748L,)\n",
      "X_test Shape: (25937, 4125), y_test Shape: (25937L,)\n"
     ]
    }
   ],
   "source": [
    "print 'X_train Shape: %s, y_train Shape: %s' % (str(X_train.shape), str(y_train.shape))\n",
    "print 'X_test Shape: %s, y_test Shape: %s' % (str(X_test.shape), str(y_test.shape))"
   ]
  },
  {
   "cell_type": "markdown",
   "metadata": {},
   "source": [
    "### Standardize Data"
   ]
  },
  {
   "cell_type": "code",
   "execution_count": 23,
   "metadata": {
    "collapsed": false
   },
   "outputs": [
    {
     "name": "stdout",
     "output_type": "stream",
     "text": [
      "Wall time: 14.5 s\n",
      "Wall time: 1 s\n"
     ]
    }
   ],
   "source": [
    "stdsc = StandardScaler()\n",
    "%time X_train_std = stdsc.fit_transform(X_train)\n",
    "%time X_test_std = stdsc.transform(X_test)"
   ]
  },
  {
   "cell_type": "markdown",
   "metadata": {},
   "source": [
    "### Select Features Using Principle Component Analysis"
   ]
  },
  {
   "cell_type": "code",
   "execution_count": 24,
   "metadata": {
    "collapsed": false
   },
   "outputs": [
    {
     "name": "stdout",
     "output_type": "stream",
     "text": [
      "Wall time: 8min 16s\n",
      "Wall time: 1.84 s\n"
     ]
    }
   ],
   "source": [
    "pca = PCA(n_components=0.8)\n",
    "%time X_train_pca = pca.fit_transform(X_train_std)\n",
    "%time X_test_pca = pca.transform(X_test_std)"
   ]
  },
  {
   "cell_type": "code",
   "execution_count": 27,
   "metadata": {
    "collapsed": false
   },
   "outputs": [
    {
     "name": "stdout",
     "output_type": "stream",
     "text": [
      "X_train_pca Shape: (103748L, 76L), y_train Shape: (103748L,)\n",
      "X_test_pca Shape: (25937L, 76L), y_test Shape: (25937L,)\n"
     ]
    }
   ],
   "source": [
    "print 'X_train_pca Shape: %s, y_train Shape: %s' % (str(X_train_pca.shape), str(y_train.shape))\n",
    "print 'X_test_pca Shape: %s, y_test Shape: %s' % (str(X_test_pca.shape), str(y_test.shape))"
   ]
  },
  {
   "cell_type": "code",
   "execution_count": 49,
   "metadata": {
    "collapsed": false
   },
   "outputs": [
    {
     "name": "stdout",
     "output_type": "stream",
     "text": [
      "Wall time: 13.3 s\n",
      "Wall time: 277 ms\n",
      "Wall time: 3.43 s\n",
      "Wall time: 61 ms\n"
     ]
    }
   ],
   "source": [
    "#%time np.savetxt('X_train_pca.csv', X_train_pca, delimiter=',')\n",
    "#%time np.savetxt('y_train.csv', y_train, delimiter=',')\n",
    "#%time np.savetxt('X_test_pca.csv', X_test_pca, delimiter=',')\n",
    "#%time np.savetxt('y_test.csv', y_test, delimiter=',')"
   ]
  },
  {
   "cell_type": "code",
   "execution_count": 2,
   "metadata": {
    "collapsed": false
   },
   "outputs": [
    {
     "name": "stdout",
     "output_type": "stream",
     "text": [
      "Wall time: 14.4 s\n",
      "Wall time: 337 ms\n",
      "Wall time: 4.04 s\n",
      "Wall time: 102 ms\n"
     ]
    }
   ],
   "source": [
    "%time X_train_pca = np.genfromtxt('X_train_pca.csv', delimiter=',')\n",
    "%time y_train = np.genfromtxt('y_train.csv', delimiter=',')\n",
    "%time X_test_pca = np.genfromtxt('X_test_pca.csv', delimiter=',')\n",
    "%time y_test = np.genfromtxt('y_test.csv', delimiter=',')"
   ]
  },
  {
   "cell_type": "code",
   "execution_count": 93,
   "metadata": {
    "collapsed": false
   },
   "outputs": [
    {
     "name": "stdout",
     "output_type": "stream",
     "text": [
      "Wall time: 170 ms\n",
      "Wall time: 18 ms\n"
     ]
    }
   ],
   "source": [
    "#stdsc = StandardScaler()\n",
    "#%time X_train_pca_std = stdsc.fit_transform(X_train_pca)\n",
    "#%time X_test_pca_std = stdsc.transform(X_test_pca)"
   ]
  },
  {
   "cell_type": "markdown",
   "metadata": {},
   "source": [
    "### Logistic Regression"
   ]
  },
  {
   "cell_type": "code",
   "execution_count": 31,
   "metadata": {
    "collapsed": false
   },
   "outputs": [
    {
     "name": "stdout",
     "output_type": "stream",
     "text": [
      "Wall time: 41.1 s\n"
     ]
    },
    {
     "data": {
      "text/plain": [
       "LogisticRegression(C=1.0, class_weight=None, dual=False, fit_intercept=True,\n",
       "          intercept_scaling=1, max_iter=100, multi_class='ovr', n_jobs=1,\n",
       "          penalty='l2', random_state=None, solver='liblinear', tol=0.0001,\n",
       "          verbose=0, warm_start=False)"
      ]
     },
     "execution_count": 31,
     "metadata": {},
     "output_type": "execute_result"
    }
   ],
   "source": [
    "lr = LogisticRegression()\n",
    "%time lr.fit(X_train_pca, y_train)"
   ]
  },
  {
   "cell_type": "code",
   "execution_count": 32,
   "metadata": {
    "collapsed": true
   },
   "outputs": [],
   "source": [
    "y_predicted_lr = lr.predict(X_test_pca)\n",
    "y_predicted_proba_lr = lr.predict_proba(X_test_pca)"
   ]
  },
  {
   "cell_type": "code",
   "execution_count": 33,
   "metadata": {
    "collapsed": false
   },
   "outputs": [
    {
     "data": {
      "text/plain": [
       "array([ 0.88537085,  0.90166306,  0.89687061, ...,  0.94580568,\n",
       "        0.98452367,  0.92293974])"
      ]
     },
     "execution_count": 33,
     "metadata": {},
     "output_type": "execute_result"
    }
   ],
   "source": [
    "y_predicted_proba_lr = np.asarray(zip(*y_predicted_proba_lr)[1])\n",
    "y_predicted_proba_lr"
   ]
  },
  {
   "cell_type": "code",
   "execution_count": 34,
   "metadata": {
    "collapsed": false
   },
   "outputs": [
    {
     "data": {
      "text/plain": [
       "((25937L,), (25937L,), (25937L,), (25937L, 76L))"
      ]
     },
     "execution_count": 34,
     "metadata": {},
     "output_type": "execute_result"
    }
   ],
   "source": [
    "y_test.shape, y_predicted_lr.shape, y_predicted_proba_lr.shape, X_test_pca.shape"
   ]
  },
  {
   "cell_type": "code",
   "execution_count": 154,
   "metadata": {
    "collapsed": false
   },
   "outputs": [
    {
     "name": "stdout",
     "output_type": "stream",
     "text": [
      "accuracy 0.866368508309\n",
      "confusion matrix\n",
      "[[ 7460  2038]\n",
      " [ 1428 15011]]\n",
      "(row=expected, col=predicted)\n",
      "             precision    recall  f1-score   support\n",
      "\n",
      "        0.0       0.84      0.79      0.81      9498\n",
      "        1.0       0.88      0.91      0.90     16439\n",
      "\n",
      "avg / total       0.87      0.87      0.87     25937\n",
      "\n"
     ]
    }
   ],
   "source": [
    "print 'accuracy', accuracy_score(y_test, y_predicted_lr)\n",
    "print 'confusion matrix\\n', confusion_matrix(y_test, y_predicted_lr)\n",
    "print '(row=expected, col=predicted)'\n",
    "print classification_report(y_test,y_predicted_lr)"
   ]
  },
  {
   "cell_type": "markdown",
   "metadata": {},
   "source": [
    "### Neural Network (Logistic Regression)"
   ]
  },
  {
   "cell_type": "code",
   "execution_count": 38,
   "metadata": {
    "collapsed": false
   },
   "outputs": [],
   "source": [
    "model = Sequential()\n",
    "\n",
    "model.add(Dense(output_dim=300, input_shape=[X_train_pca.shape[1]], activation='relu', \\\n",
    "                W_regularizer=l2(0)))\n",
    "model.add(Dense(output_dim=300, activation='relu'))\n",
    "model.add(Dense(output_dim=300, activation='relu'))\n",
    "model.add(Dense(output_dim=300, activation='relu'))\n",
    "model.add(Dense(output_dim=1, activation='sigmoid'))\n",
    "# Compile model\n",
    "sgd = SGD(lr=0.1)\n",
    "model.compile(loss='binary_crossentropy', optimizer=sgd)\n",
    "checkpointer = ModelCheckpoint(filepath='model\\\\nn\\\\weights.hdf5', verbose=1, save_best_only=True)"
   ]
  },
  {
   "cell_type": "code",
   "execution_count": 8,
   "metadata": {
    "collapsed": false
   },
   "outputs": [
    {
     "name": "stdout",
     "output_type": "stream",
     "text": [
      "____________________________________________________________________________________________________\n",
      "Layer (type)                     Output Shape          Param #     Connected to                     \n",
      "====================================================================================================\n",
      "dense_6 (Dense)                  (None, 300)           23100       dense_input_2[0][0]              \n",
      "____________________________________________________________________________________________________\n",
      "dense_7 (Dense)                  (None, 300)           90300       dense_6[0][0]                    \n",
      "____________________________________________________________________________________________________\n",
      "dense_8 (Dense)                  (None, 300)           90300       dense_7[0][0]                    \n",
      "____________________________________________________________________________________________________\n",
      "dense_9 (Dense)                  (None, 300)           90300       dense_8[0][0]                    \n",
      "____________________________________________________________________________________________________\n",
      "dense_10 (Dense)                 (None, 1)             301         dense_9[0][0]                    \n",
      "====================================================================================================\n",
      "Total params: 294301\n",
      "____________________________________________________________________________________________________\n"
     ]
    }
   ],
   "source": [
    "model.summary()"
   ]
  },
  {
   "cell_type": "code",
   "execution_count": 9,
   "metadata": {
    "collapsed": false
   },
   "outputs": [
    {
     "data": {
      "text/plain": [
       "((25937L,), (103748L,))"
      ]
     },
     "execution_count": 9,
     "metadata": {},
     "output_type": "execute_result"
    }
   ],
   "source": [
    "y_test.shape, y_train.shape"
   ]
  },
  {
   "cell_type": "code",
   "execution_count": 10,
   "metadata": {
    "collapsed": false
   },
   "outputs": [
    {
     "name": "stdout",
     "output_type": "stream",
     "text": [
      "Train on 103748 samples, validate on 25937 samples\n",
      "Epoch 1/15\n",
      "Epoch 00000: val_loss improved from inf to 0.29306, saving model to weights.hdf5\n",
      "12s - loss: 0.3232 - val_loss: 0.2931\n",
      "Epoch 2/15\n",
      "Epoch 00001: val_loss improved from 0.29306 to 0.26301, saving model to weights.hdf5\n",
      "8s - loss: 0.2637 - val_loss: 0.2630\n",
      "Epoch 3/15\n",
      "Epoch 00002: val_loss did not improve\n",
      "8s - loss: 0.2409 - val_loss: 0.2787\n",
      "Epoch 4/15\n",
      "Epoch 00003: val_loss improved from 0.26301 to 0.24756, saving model to weights.hdf5\n",
      "8s - loss: 0.2258 - val_loss: 0.2476\n",
      "Epoch 5/15\n",
      "Epoch 00004: val_loss did not improve\n",
      "8s - loss: 0.2117 - val_loss: 0.2672\n",
      "Epoch 6/15\n",
      "Epoch 00005: val_loss improved from 0.24756 to 0.21997, saving model to weights.hdf5\n",
      "8s - loss: 0.2023 - val_loss: 0.2200\n",
      "Epoch 7/15\n",
      "Epoch 00006: val_loss improved from 0.21997 to 0.21449, saving model to weights.hdf5\n",
      "8s - loss: 0.1903 - val_loss: 0.2145\n",
      "Epoch 8/15\n",
      "Epoch 00007: val_loss did not improve\n",
      "8s - loss: 0.1815 - val_loss: 0.2266\n",
      "Epoch 9/15\n",
      "Epoch 00008: val_loss did not improve\n",
      "7s - loss: 0.1737 - val_loss: 0.2252\n",
      "Epoch 10/15\n",
      "Epoch 00009: val_loss did not improve\n",
      "7s - loss: 0.1635 - val_loss: 0.2342\n",
      "Epoch 11/15\n",
      "Epoch 00010: val_loss did not improve\n",
      "7s - loss: 0.1577 - val_loss: 0.2287\n",
      "Epoch 12/15\n",
      "Epoch 00011: val_loss did not improve\n",
      "7s - loss: 0.1484 - val_loss: 0.2373\n",
      "Epoch 13/15\n",
      "Epoch 00012: val_loss improved from 0.21449 to 0.20358, saving model to weights.hdf5\n",
      "7s - loss: 0.1466 - val_loss: 0.2036\n",
      "Epoch 14/15\n",
      "Epoch 00013: val_loss improved from 0.20358 to 0.19222, saving model to weights.hdf5\n",
      "7s - loss: 0.1348 - val_loss: 0.1922\n",
      "Epoch 15/15\n",
      "Epoch 00014: val_loss did not improve\n",
      "7s - loss: 0.1358 - val_loss: 0.3292\n"
     ]
    }
   ],
   "source": [
    "history = model.fit(X_train_pca, y_train, batch_size = 256,\n",
    "          nb_epoch = 15, verbose=2, validation_data=(X_test_pca, y_test), callbacks=[checkpointer])"
   ]
  },
  {
   "cell_type": "code",
   "execution_count": 11,
   "metadata": {
    "collapsed": false
   },
   "outputs": [
    {
     "name": "stdout",
     "output_type": "stream",
     "text": [
      "Loss after final iteration:  0.329180993657\n"
     ]
    },
    {
     "data": {
      "image/png": "[encoded data removed]",
      "text/plain": [
       "<matplotlib.figure.Figure at 0x3d72fe10>"
      ]
     },
     "metadata": {},
     "output_type": "display_data"
    }
   ],
   "source": [
    "%matplotlib inline\n",
    "import matplotlib.pyplot as plt\n",
    "fig = plt.figure(figsize=(6,4))\n",
    "# # summarize history for loss\n",
    "plt.plot(history.history['loss'])\n",
    "plt.plot(history.history['val_loss'], 'g--')\n",
    "plt.title('Model Loss')\n",
    "plt.ylabel('Error')\n",
    "plt.xlabel('Epoch')\n",
    "plt.legend(['Training Loss', 'Testing Loss'], loc='upper right')\n",
    "print \"Loss after final iteration: \", history.history['val_loss'][-1]\n",
    "plt.show()"
   ]
  },
  {
   "cell_type": "code",
   "execution_count": 39,
   "metadata": {
    "collapsed": false
   },
   "outputs": [
    {
     "name": "stdout",
     "output_type": "stream",
     "text": [
      "25937/25937 [==============================] - 1s     \n",
      "25728/25937 [============================>.] - ETA: 0s"
     ]
    }
   ],
   "source": [
    "model.load_weights('model\\\\nn\\\\weights.hdf5')\n",
    "y_predicted_lrmodel = model.predict_classes(X_test_pca)\n",
    "y_predicted_proba_lrmodel = model.predict_proba(X_test_pca)\n",
    "y_predicted_proba_lrmodel = np.asarray(zip(*y_predicted_proba_lrmodel))[0]"
   ]
  },
  {
   "cell_type": "code",
   "execution_count": 13,
   "metadata": {
    "collapsed": false
   },
   "outputs": [
    {
     "data": {
      "text/plain": [
       "((25937L,), (25937L, 1L), (25937L,), (25937L, 76L))"
      ]
     },
     "execution_count": 13,
     "metadata": {},
     "output_type": "execute_result"
    }
   ],
   "source": [
    "y_test.shape, y_predicted_lrmodel.shape, y_predicted_proba_lrmodel.shape, X_test_pca.shape"
   ]
  },
  {
   "cell_type": "code",
   "execution_count": 153,
   "metadata": {
    "collapsed": false
   },
   "outputs": [
    {
     "name": "stdout",
     "output_type": "stream",
     "text": [
      "accuracy 0.93129506111\n",
      "confusion matrix\n",
      "[[ 8622   876]\n",
      " [  906 15533]]\n",
      "(row=expected, col=predicted)\n",
      "\n",
      " Classifcation Report\n",
      "             precision    recall  f1-score   support\n",
      "\n",
      "        0.0       0.90      0.91      0.91      9498\n",
      "        1.0       0.95      0.94      0.95     16439\n",
      "\n",
      "avg / total       0.93      0.93      0.93     25937\n",
      "\n"
     ]
    }
   ],
   "source": [
    "print 'accuracy', accuracy_score(y_test, y_predicted_lrmodel)\n",
    "print 'confusion matrix\\n', confusion_matrix(y_test, y_predicted_lrmodel)\n",
    "print '(row=expected, col=predicted)'\n",
    "print '\\n Classifcation Report'\n",
    "print classification_report(y_test,y_predicted_lrmodel)"
   ]
  },
  {
   "cell_type": "markdown",
   "metadata": {},
   "source": [
    "### Random Forests"
   ]
  },
  {
   "cell_type": "code",
   "execution_count": 16,
   "metadata": {
    "collapsed": false
   },
   "outputs": [
    {
     "name": "stdout",
     "output_type": "stream",
     "text": [
      "Wall time: 915 ms\n",
      "Wall time: 336 ms\n",
      "Wall time: 136 ms\n",
      "Wall time: 451 ms\n"
     ]
    }
   ],
   "source": [
    "#%time np.savetxt('y_predicted_rfc.csv', y_predicted_rfc, delimiter=',')\n",
    "#%time np.savetxt('y_predicted_proba_rfc.csv', y_predicted_proba_rfc, delimiter=',')\n",
    "#%time np.savetxt('y_predicted_gbc.csv', y_predicted_gbc, delimiter=',')\n",
    "#%time np.savetxt('y_predicted_proba_gbc.csv', y_predicted_proba_gbc, delimiter=',')"
   ]
  },
  {
   "cell_type": "code",
   "execution_count": 2,
   "metadata": {
    "collapsed": false
   },
   "outputs": [
    {
     "name": "stdout",
     "output_type": "stream",
     "text": [
      "Wall time: 14.4 s\n",
      "Wall time: 337 ms\n",
      "Wall time: 4.04 s\n",
      "Wall time: 102 ms\n"
     ]
    }
   ],
   "source": [
    "#%time y_predicted_rfc = np.genfromtxt('y_predicted_rfc.csv', delimiter=',')\n",
    "#%time y_predicted_proba_rfc = np.genfromtxt('y_predicted_proba_rfc.csv', delimiter=',')\n",
    "#%time y_predicted_gbc = np.genfromtxt('y_predicted_gbc.csv', delimiter=',')\n",
    "#%time y_predicted_proba_gbc = np.genfromtxt('y_predicted_proba_gbc.csv', delimiter=',')"
   ]
  },
  {
   "cell_type": "code",
   "execution_count": 155,
   "metadata": {
    "collapsed": false
   },
   "outputs": [
    {
     "data": {
      "text/plain": [
       "((103748L, 76L), (103748L,))"
      ]
     },
     "execution_count": 155,
     "metadata": {},
     "output_type": "execute_result"
    }
   ],
   "source": [
    "X_train_pca.shape, y_train.shape"
   ]
  },
  {
   "cell_type": "code",
   "execution_count": 12,
   "metadata": {
    "collapsed": false
   },
   "outputs": [
    {
     "name": "stdout",
     "output_type": "stream",
     "text": [
      "Wall time: 2h 19min 34s\n",
      "GridSearchCV(cv=None, error_score='raise',\n",
      "       estimator=RandomForestClassifier(bootstrap=True, class_weight=None, criterion='gini',\n",
      "            max_depth=None, max_features='auto', max_leaf_nodes=None,\n",
      "            min_samples_leaf=1, min_samples_split=2,\n",
      "            min_weight_fraction_leaf=0.0, n_estimators=10, n_jobs=1,\n",
      "            oob_score=False, random_state=47, verbose=0, warm_start=False),\n",
      "       fit_params={}, iid=True, n_jobs=1,\n",
      "       param_grid={'n_estimators': [5, 10, 50, 100, 200, 300, 400, 1000]},\n",
      "       pre_dispatch='2*n_jobs', refit=True, scoring=None, verbose=0)\n",
      "0.920046651502\n",
      "1000\n"
     ]
    }
   ],
   "source": [
    "n_estimators_list = [5,10,50,100,200,300,400,1000]\n",
    "\n",
    "rfc = RandomForestClassifier(random_state=47)\n",
    "rfc_grid = GridSearchCV(estimator=rfc, param_grid=dict(n_estimators=n_estimators_list))\n",
    "%time rfc_grid.fit(X_train_pca, y_train)\n",
    "\n",
    "print(rfc_grid)\n",
    "# summarize the results of the grid search\n",
    "print(rfc_grid.best_score_)\n",
    "print(rfc_grid.best_estimator_.n_estimators)"
   ]
  },
  {
   "cell_type": "code",
   "execution_count": 163,
   "metadata": {
    "collapsed": false
   },
   "outputs": [
    {
     "name": "stdout",
     "output_type": "stream",
     "text": [
      "Accuracy:  0.930793846628\n",
      "\n",
      " Decision Tree Results\n",
      "Confusion Matrix: \n",
      "[[ 8198  1300]\n",
      " [  495 15944]]\n",
      "\n",
      " Classifcation Report\n",
      "             precision    recall  f1-score   support\n",
      "\n",
      "        0.0       0.94      0.86      0.90      9498\n",
      "        1.0       0.92      0.97      0.95     16439\n",
      "\n",
      "avg / total       0.93      0.93      0.93     25937\n",
      "\n"
     ]
    }
   ],
   "source": [
    "y_predicted_rfc = rfc_grid.predict(X_test_pca)\n",
    "y_predicted_proba_rfc = rfc_grid.predict_proba(X_test_pca)\n",
    "y_predicted_proba_rfc = np.asarray(zip(*y_predicted_proba_rfc))[1]\n",
    "\n",
    "print 'Accuracy: ', accuracy_score(y_test, y_predicted_rfc)\n",
    "print '\\n Decision Tree Results\\nConfusion Matrix: '\n",
    "print confusion_matrix(y_test,y_predicted_rfc)\n",
    "print '\\n Classifcation Report'\n",
    "print classification_report(y_test,y_predicted_rfc)"
   ]
  },
  {
   "cell_type": "code",
   "execution_count": null,
   "metadata": {
    "collapsed": false
   },
   "outputs": [],
   "source": [
    "#joblib.dump(rfc, 'model\\\\rfc\\\\rfc.pkl')\n",
    "#joblib.dump(rfc_grid, 'model\\\\rfc\\\\rfc_grid.pkl')"
   ]
  },
  {
   "cell_type": "code",
   "execution_count": null,
   "metadata": {
    "collapsed": true
   },
   "outputs": [],
   "source": [
    "#rfc = joblib.load('model\\\\rfc\\\\rfc.pkl')\n",
    "#rfc_grid = joblib.load('model\\\\rfc\\\\rfc_grid.pkl')"
   ]
  },
  {
   "cell_type": "markdown",
   "metadata": {},
   "source": [
    "### Gradient Boosting Classifier"
   ]
  },
  {
   "cell_type": "code",
   "execution_count": 14,
   "metadata": {
    "collapsed": false
   },
   "outputs": [
    {
     "name": "stdout",
     "output_type": "stream",
     "text": [
      "Wall time: 2h 2min 30s\n",
      "GridSearchCV(cv=None, error_score='raise',\n",
      "       estimator=GradientBoostingClassifier(init=None, learning_rate=0.1, loss='deviance',\n",
      "              max_depth=3, max_features=None, max_leaf_nodes=None,\n",
      "              min_samples_leaf=1, min_samples_split=2,\n",
      "              min_weight_fraction_leaf=0.0, n_estimators=100,\n",
      "              presort='auto', random_state=47, subsample=1.0, verbose=0,\n",
      "              warm_start=False),\n",
      "       fit_params={}, iid=True, n_jobs=1,\n",
      "       param_grid={'n_estimators': [5, 10, 50, 100, 200, 300, 400, 1000]},\n",
      "       pre_dispatch='2*n_jobs', refit=True, scoring=None, verbose=0)\n",
      "0.903448741181\n",
      "1000\n"
     ]
    }
   ],
   "source": [
    "gbc = GradientBoostingClassifier(random_state=47)\n",
    "\n",
    "n_estimators_list = [5,10,50,100,200,300,400,1000]\n",
    "gbc_grid = GridSearchCV(estimator=gbc, param_grid=dict(n_estimators=n_estimators_list))\n",
    "%time gbc_grid.fit(X_train_pca, y_train)\n",
    "\n",
    "print(gbc_grid)\n",
    "# summarize the results of the grid search\n",
    "print(gbc_grid.best_score_)\n",
    "print(gbc_grid.best_estimator_.n_estimators)"
   ]
  },
  {
   "cell_type": "code",
   "execution_count": 164,
   "metadata": {
    "collapsed": false,
    "scrolled": true
   },
   "outputs": [
    {
     "name": "stdout",
     "output_type": "stream",
     "text": [
      "Accuracy:  0.901916181517\n",
      "\n",
      " Decision Tree Results\n",
      "Confusion Matrix: \n",
      "[[ 7966  1532]\n",
      " [ 1012 15427]]\n",
      "\n",
      " Classifcation Report\n",
      "             precision    recall  f1-score   support\n",
      "\n",
      "        0.0       0.89      0.84      0.86      9498\n",
      "        1.0       0.91      0.94      0.92     16439\n",
      "\n",
      "avg / total       0.90      0.90      0.90     25937\n",
      "\n"
     ]
    }
   ],
   "source": [
    "y_predicted_gbc = gbc_grid.predict(X_test_pca)\n",
    "y_predicted_proba_gbc = gbc_grid.predict_proba(X_test_pca)\n",
    "y_predicted_proba_gbc = np.asarray(zip(*y_predicted_proba_gbc))[1]\n",
    "\n",
    "print 'Accuracy: ', accuracy_score(y_test, y_predicted_gbc)\n",
    "print '\\n Decision Tree Results\\nConfusion Matrix: '\n",
    "print confusion_matrix(y_test,y_predicted_gbc)\n",
    "print '\\n Classifcation Report'\n",
    "print classification_report(y_test,y_predicted_gbc)"
   ]
  },
  {
   "cell_type": "code",
   "execution_count": null,
   "metadata": {
    "collapsed": false
   },
   "outputs": [],
   "source": [
    "#joblib.dump(gbc, 'model\\\\gbc\\\\gbc.pkl')\n",
    "#joblib.dump(gbc_grid, 'model\\\\gbc\\\\gbc_grid.pkl')"
   ]
  },
  {
   "cell_type": "code",
   "execution_count": 25,
   "metadata": {
    "collapsed": false
   },
   "outputs": [],
   "source": [
    "#gbc = joblib.load('model\\\\gbc\\\\gbc.pkl')\n",
    "#gbc_grid = joblib.load('model\\\\gbc\\\\gbc_grid.pkl')"
   ]
  },
  {
   "cell_type": "markdown",
   "metadata": {},
   "source": [
    "### Voting Classifier"
   ]
  },
  {
   "cell_type": "code",
   "execution_count": 192,
   "metadata": {
    "collapsed": false
   },
   "outputs": [
    {
     "data": {
      "text/plain": [
       "array([ 0.95,  1.  ,  1.  , ...,  1.  ,  1.  ,  1.  ])"
      ]
     },
     "execution_count": 192,
     "metadata": {},
     "output_type": "execute_result"
    }
   ],
   "source": [
    "y_predicted_proba = np.sum(np.array([y_predicted_proba_lrmodel, y_predicted_proba_rfc, y_predicted_proba_gbc, y_predicted_proba_lr])\\\n",
    "                            *[[0.9],[0.05],[0.05],[0.0]],axis=0)\n",
    "y_predicted_proba"
   ]
  },
  {
   "cell_type": "code",
   "execution_count": 193,
   "metadata": {
    "collapsed": false
   },
   "outputs": [
    {
     "data": {
      "text/plain": [
       "array([ 1.,  1.,  1., ...,  1.,  1.,  1.])"
      ]
     },
     "execution_count": 193,
     "metadata": {},
     "output_type": "execute_result"
    }
   ],
   "source": [
    "y_predicted = y_predicted_proba\n",
    "y_predicted[y_predicted >= 0.5] = 1\n",
    "y_predicted[y_predicted < 0.5] = 0\n",
    "y_predicted"
   ]
  },
  {
   "cell_type": "code",
   "execution_count": 194,
   "metadata": {
    "collapsed": false
   },
   "outputs": [
    {
     "name": "stdout",
     "output_type": "stream",
     "text": [
      "accuracy 0.93129506111\n",
      "confusion matrix\n",
      "[[ 8622   876]\n",
      " [  906 15533]]\n",
      "(row=expected, col=predicted)\n",
      "\n",
      " Classifcation Report\n",
      "             precision    recall  f1-score   support\n",
      "\n",
      "        0.0       0.90      0.91      0.91      9498\n",
      "        1.0       0.95      0.94      0.95     16439\n",
      "\n",
      "avg / total       0.93      0.93      0.93     25937\n",
      "\n"
     ]
    }
   ],
   "source": [
    "print 'accuracy', accuracy_score(y_test, y_predicted)\n",
    "print 'confusion matrix\\n', confusion_matrix(y_test, y_predicted)\n",
    "print '(row=expected, col=predicted)'\n",
    "print '\\n Classifcation Report'\n",
    "print classification_report(y_test,y_predicted)"
   ]
  },
  {
   "cell_type": "code",
   "execution_count": null,
   "metadata": {
    "collapsed": true
   },
   "outputs": [],
   "source": [
    "0.93129506111"
   ]
  }
 ],
 "metadata": {
  "anaconda-cloud": {},
  "kernelspec": {
   "display_name": "Python 2",
   "language": "python",
   "name": "python2"
  },
  "language_info": {
   "codemirror_mode": {
    "name": "ipython",
    "version": 2
   },
   "file_extension": ".py",
   "mimetype": "text/x-python",
   "name": "python",
   "nbconvert_exporter": "python",
   "pygments_lexer": "ipython2",
   "version": "2.7.13"
  }
 },
 "nbformat": 4,
 "nbformat_minor": 0
}
