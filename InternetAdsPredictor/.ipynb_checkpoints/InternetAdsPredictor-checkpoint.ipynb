{
 "cells": [
  {
   "cell_type": "markdown",
   "metadata": {},
   "source": [
    "# Internet Advertisements Predictor\n",
    "## Dataset Source\n",
    "http://archive.ics.uci.edu/ml/datasets/Internet+Advertisements"
   ]
  },
  {
   "cell_type": "markdown",
   "metadata": {},
   "source": [
    "### Import Libraries"
   ]
  },
  {
   "cell_type": "code",
   "execution_count": 99,
   "metadata": {
    "collapsed": false
   },
   "outputs": [],
   "source": [
    "%matplotlib inline\n",
    "import matplotlib.pyplot as plt\n",
    "import pandas as pd\n",
    "import numpy as np\n",
    "from sklearn import cross_validation\n",
    "from sklearn import preprocessing\n",
    "from sklearn.preprocessing import StandardScaler\n",
    "from sklearn.datasets import load_svmlight_file\n",
    "from sklearn.decomposition import PCA\n",
    "from sklearn.preprocessing import Imputer\n",
    "from sklearn.linear_model import LogisticRegression\n",
    "from sklearn.ensemble import RandomForestClassifier\n",
    "from sklearn.grid_search import GridSearchCV\n",
    "from sklearn.ensemble import GradientBoostingClassifier\n",
    "from sklearn.externals import joblib\n",
    "import requests, zipfile, StringIO\n",
    "from sklearn.metrics import classification_report, f1_score, accuracy_score, confusion_matrix\n",
    "from keras.models import Sequential\n",
    "from keras.callbacks import ModelCheckpoint\n",
    "from keras.layers import Dense\n",
    "from keras.regularizers import l2, l1\n",
    "from keras.optimizers import SGD\n",
    "from keras.utils.np_utils import to_categorical"
   ]
  },
  {
   "cell_type": "markdown",
   "metadata": {},
   "source": [
    "### Read Data"
   ]
  },
  {
   "cell_type": "code",
   "execution_count": 17,
   "metadata": {
    "collapsed": true
   },
   "outputs": [],
   "source": [
    "np.random.seed(1)"
   ]
  },
  {
   "cell_type": "code",
   "execution_count": 25,
   "metadata": {
    "collapsed": false
   },
   "outputs": [],
   "source": [
    "column_names = pd.read_csv('data\\\\ad.names.csv', header=None)[0]"
   ]
  },
  {
   "cell_type": "code",
   "execution_count": 26,
   "metadata": {
    "collapsed": false
   },
   "outputs": [
    {
     "data": {
      "text/plain": [
       "1558"
      ]
     },
     "execution_count": 26,
     "metadata": {},
     "output_type": "execute_result"
    }
   ],
   "source": [
    "len(column_names)"
   ]
  },
  {
   "cell_type": "code",
   "execution_count": 91,
   "metadata": {
    "collapsed": false
   },
   "outputs": [
    {
     "data": {
      "text/html": [
       "<div>\n",
       "<table border=\"1\" class=\"dataframe\">\n",
       "  <thead>\n",
       "    <tr style=\"text-align: right;\">\n",
       "      <th></th>\n",
       "      <th>height</th>\n",
       "      <th>width</th>\n",
       "      <th>aratio</th>\n",
       "      <th>local</th>\n",
       "      <th>url*images+buttons</th>\n",
       "      <th>url*likesbooks.com</th>\n",
       "      <th>url*www.slake.com</th>\n",
       "      <th>url*hydrogeologist</th>\n",
       "      <th>url*oso</th>\n",
       "      <th>url*media</th>\n",
       "      <th>...</th>\n",
       "      <th>caption*of</th>\n",
       "      <th>caption*home</th>\n",
       "      <th>caption*my</th>\n",
       "      <th>caption*your</th>\n",
       "      <th>caption*in</th>\n",
       "      <th>caption*bytes</th>\n",
       "      <th>caption*here</th>\n",
       "      <th>caption*click</th>\n",
       "      <th>caption*for</th>\n",
       "      <th>caption*you</th>\n",
       "    </tr>\n",
       "  </thead>\n",
       "  <tbody>\n",
       "    <tr>\n",
       "      <th>0</th>\n",
       "      <td>125.0</td>\n",
       "      <td>125.0</td>\n",
       "      <td>1.0000</td>\n",
       "      <td>1.0</td>\n",
       "      <td>0</td>\n",
       "      <td>0</td>\n",
       "      <td>0</td>\n",
       "      <td>0</td>\n",
       "      <td>0</td>\n",
       "      <td>0</td>\n",
       "      <td>...</td>\n",
       "      <td>0</td>\n",
       "      <td>0</td>\n",
       "      <td>0</td>\n",
       "      <td>0</td>\n",
       "      <td>0</td>\n",
       "      <td>0</td>\n",
       "      <td>0</td>\n",
       "      <td>0</td>\n",
       "      <td>0</td>\n",
       "      <td>0</td>\n",
       "    </tr>\n",
       "    <tr>\n",
       "      <th>1</th>\n",
       "      <td>57.0</td>\n",
       "      <td>468.0</td>\n",
       "      <td>8.2105</td>\n",
       "      <td>1.0</td>\n",
       "      <td>0</td>\n",
       "      <td>0</td>\n",
       "      <td>0</td>\n",
       "      <td>0</td>\n",
       "      <td>0</td>\n",
       "      <td>0</td>\n",
       "      <td>...</td>\n",
       "      <td>0</td>\n",
       "      <td>0</td>\n",
       "      <td>0</td>\n",
       "      <td>0</td>\n",
       "      <td>0</td>\n",
       "      <td>0</td>\n",
       "      <td>0</td>\n",
       "      <td>0</td>\n",
       "      <td>0</td>\n",
       "      <td>0</td>\n",
       "    </tr>\n",
       "    <tr>\n",
       "      <th>2</th>\n",
       "      <td>33.0</td>\n",
       "      <td>230.0</td>\n",
       "      <td>6.9696</td>\n",
       "      <td>1.0</td>\n",
       "      <td>0</td>\n",
       "      <td>0</td>\n",
       "      <td>0</td>\n",
       "      <td>0</td>\n",
       "      <td>0</td>\n",
       "      <td>0</td>\n",
       "      <td>...</td>\n",
       "      <td>0</td>\n",
       "      <td>0</td>\n",
       "      <td>0</td>\n",
       "      <td>0</td>\n",
       "      <td>0</td>\n",
       "      <td>0</td>\n",
       "      <td>0</td>\n",
       "      <td>0</td>\n",
       "      <td>0</td>\n",
       "      <td>0</td>\n",
       "    </tr>\n",
       "    <tr>\n",
       "      <th>3</th>\n",
       "      <td>60.0</td>\n",
       "      <td>468.0</td>\n",
       "      <td>7.8000</td>\n",
       "      <td>1.0</td>\n",
       "      <td>0</td>\n",
       "      <td>0</td>\n",
       "      <td>0</td>\n",
       "      <td>0</td>\n",
       "      <td>0</td>\n",
       "      <td>0</td>\n",
       "      <td>...</td>\n",
       "      <td>0</td>\n",
       "      <td>0</td>\n",
       "      <td>0</td>\n",
       "      <td>0</td>\n",
       "      <td>0</td>\n",
       "      <td>0</td>\n",
       "      <td>0</td>\n",
       "      <td>0</td>\n",
       "      <td>0</td>\n",
       "      <td>0</td>\n",
       "    </tr>\n",
       "    <tr>\n",
       "      <th>4</th>\n",
       "      <td>60.0</td>\n",
       "      <td>468.0</td>\n",
       "      <td>7.8000</td>\n",
       "      <td>1.0</td>\n",
       "      <td>0</td>\n",
       "      <td>0</td>\n",
       "      <td>0</td>\n",
       "      <td>0</td>\n",
       "      <td>0</td>\n",
       "      <td>0</td>\n",
       "      <td>...</td>\n",
       "      <td>0</td>\n",
       "      <td>0</td>\n",
       "      <td>0</td>\n",
       "      <td>0</td>\n",
       "      <td>0</td>\n",
       "      <td>0</td>\n",
       "      <td>0</td>\n",
       "      <td>0</td>\n",
       "      <td>0</td>\n",
       "      <td>0</td>\n",
       "    </tr>\n",
       "  </tbody>\n",
       "</table>\n",
       "<p>5 rows × 1558 columns</p>\n",
       "</div>"
      ],
      "text/plain": [
       "0  height  width  aratio  local  url*images+buttons  url*likesbooks.com  \\\n",
       "0   125.0  125.0  1.0000    1.0                   0                   0   \n",
       "1    57.0  468.0  8.2105    1.0                   0                   0   \n",
       "2    33.0  230.0  6.9696    1.0                   0                   0   \n",
       "3    60.0  468.0  7.8000    1.0                   0                   0   \n",
       "4    60.0  468.0  7.8000    1.0                   0                   0   \n",
       "\n",
       "0  url*www.slake.com  url*hydrogeologist  url*oso  url*media     ...       \\\n",
       "0                  0                   0        0          0     ...        \n",
       "1                  0                   0        0          0     ...        \n",
       "2                  0                   0        0          0     ...        \n",
       "3                  0                   0        0          0     ...        \n",
       "4                  0                   0        0          0     ...        \n",
       "\n",
       "0  caption*of  caption*home  caption*my  caption*your  caption*in  \\\n",
       "0           0             0           0             0           0   \n",
       "1           0             0           0             0           0   \n",
       "2           0             0           0             0           0   \n",
       "3           0             0           0             0           0   \n",
       "4           0             0           0             0           0   \n",
       "\n",
       "0  caption*bytes  caption*here  caption*click  caption*for  caption*you  \n",
       "0              0             0              0            0            0  \n",
       "1              0             0              0            0            0  \n",
       "2              0             0              0            0            0  \n",
       "3              0             0              0            0            0  \n",
       "4              0             0              0            0            0  \n",
       "\n",
       "[5 rows x 1558 columns]"
      ]
     },
     "execution_count": 91,
     "metadata": {},
     "output_type": "execute_result"
    }
   ],
   "source": [
    "X = pd.read_csv('data\\\\ad.data', header=None, na_values=['unknown','?','   ?','     ?'], usecols=range(0,1558))\n",
    "X.columns = column_names\n",
    "X.head()"
   ]
  },
  {
   "cell_type": "code",
   "execution_count": 161,
   "metadata": {
    "collapsed": false
   },
   "outputs": [
    {
     "data": {
      "text/plain": [
       "(3279, 1558)"
      ]
     },
     "execution_count": 161,
     "metadata": {},
     "output_type": "execute_result"
    }
   ],
   "source": [
    "X.shape"
   ]
  },
  {
   "cell_type": "code",
   "execution_count": 158,
   "metadata": {
    "collapsed": false
   },
   "outputs": [
    {
     "data": {
      "text/plain": [
       "{0, 1}"
      ]
     },
     "execution_count": 158,
     "metadata": {},
     "output_type": "execute_result"
    }
   ],
   "source": [
    "y = np.asarray(pd.read_csv('data\\\\ad.data', header=None, na_values='unknown', usecols=[1558])[1558])\n",
    "y[y == 'ad.'] = 1\n",
    "y[y == 'nonad.'] = 0\n",
    "set(y)"
   ]
  },
  {
   "cell_type": "code",
   "execution_count": 159,
   "metadata": {
    "collapsed": false
   },
   "outputs": [
    {
     "name": "stdout",
     "output_type": "stream",
     "text": [
      "X Shape: (3279, 1558), y Shape: (3279L,)\n"
     ]
    }
   ],
   "source": [
    "print 'X Shape: %s, y Shape: %s' % (str(X.shape), str(y.shape))"
   ]
  },
  {
   "cell_type": "markdown",
   "metadata": {},
   "source": [
    "### Split Data into Training and Validation"
   ]
  },
  {
   "cell_type": "code",
   "execution_count": 95,
   "metadata": {
    "collapsed": true
   },
   "outputs": [],
   "source": [
    "X_train, X_test, y_train, y_test = cross_validation.train_test_split(\n",
    "    X, y, test_size=0.2, random_state=5)"
   ]
  },
  {
   "cell_type": "code",
   "execution_count": 96,
   "metadata": {
    "collapsed": false
   },
   "outputs": [
    {
     "data": {
      "text/html": [
       "<div>\n",
       "<table border=\"1\" class=\"dataframe\">\n",
       "  <thead>\n",
       "    <tr style=\"text-align: right;\">\n",
       "      <th></th>\n",
       "      <th>height</th>\n",
       "      <th>width</th>\n",
       "      <th>aratio</th>\n",
       "      <th>local</th>\n",
       "      <th>url*images+buttons</th>\n",
       "      <th>url*likesbooks.com</th>\n",
       "      <th>url*www.slake.com</th>\n",
       "      <th>url*hydrogeologist</th>\n",
       "      <th>url*oso</th>\n",
       "      <th>url*media</th>\n",
       "      <th>...</th>\n",
       "      <th>caption*of</th>\n",
       "      <th>caption*home</th>\n",
       "      <th>caption*my</th>\n",
       "      <th>caption*your</th>\n",
       "      <th>caption*in</th>\n",
       "      <th>caption*bytes</th>\n",
       "      <th>caption*here</th>\n",
       "      <th>caption*click</th>\n",
       "      <th>caption*for</th>\n",
       "      <th>caption*you</th>\n",
       "    </tr>\n",
       "  </thead>\n",
       "  <tbody>\n",
       "    <tr>\n",
       "      <th>1986</th>\n",
       "      <td>90.0</td>\n",
       "      <td>65.0</td>\n",
       "      <td>0.7222</td>\n",
       "      <td>1.0</td>\n",
       "      <td>0</td>\n",
       "      <td>0</td>\n",
       "      <td>0</td>\n",
       "      <td>0</td>\n",
       "      <td>0</td>\n",
       "      <td>0</td>\n",
       "      <td>...</td>\n",
       "      <td>0</td>\n",
       "      <td>0</td>\n",
       "      <td>0</td>\n",
       "      <td>0</td>\n",
       "      <td>0</td>\n",
       "      <td>0</td>\n",
       "      <td>0</td>\n",
       "      <td>0</td>\n",
       "      <td>0</td>\n",
       "      <td>0</td>\n",
       "    </tr>\n",
       "    <tr>\n",
       "      <th>496</th>\n",
       "      <td>NaN</td>\n",
       "      <td>NaN</td>\n",
       "      <td>NaN</td>\n",
       "      <td>1.0</td>\n",
       "      <td>0</td>\n",
       "      <td>0</td>\n",
       "      <td>0</td>\n",
       "      <td>0</td>\n",
       "      <td>0</td>\n",
       "      <td>0</td>\n",
       "      <td>...</td>\n",
       "      <td>0</td>\n",
       "      <td>0</td>\n",
       "      <td>0</td>\n",
       "      <td>0</td>\n",
       "      <td>0</td>\n",
       "      <td>0</td>\n",
       "      <td>0</td>\n",
       "      <td>0</td>\n",
       "      <td>0</td>\n",
       "      <td>0</td>\n",
       "    </tr>\n",
       "    <tr>\n",
       "      <th>2765</th>\n",
       "      <td>36.0</td>\n",
       "      <td>114.0</td>\n",
       "      <td>3.1666</td>\n",
       "      <td>1.0</td>\n",
       "      <td>0</td>\n",
       "      <td>0</td>\n",
       "      <td>0</td>\n",
       "      <td>0</td>\n",
       "      <td>0</td>\n",
       "      <td>0</td>\n",
       "      <td>...</td>\n",
       "      <td>0</td>\n",
       "      <td>0</td>\n",
       "      <td>0</td>\n",
       "      <td>0</td>\n",
       "      <td>0</td>\n",
       "      <td>0</td>\n",
       "      <td>0</td>\n",
       "      <td>0</td>\n",
       "      <td>0</td>\n",
       "      <td>0</td>\n",
       "    </tr>\n",
       "    <tr>\n",
       "      <th>2495</th>\n",
       "      <td>24.0</td>\n",
       "      <td>120.0</td>\n",
       "      <td>5.0000</td>\n",
       "      <td>0.0</td>\n",
       "      <td>0</td>\n",
       "      <td>0</td>\n",
       "      <td>0</td>\n",
       "      <td>0</td>\n",
       "      <td>0</td>\n",
       "      <td>0</td>\n",
       "      <td>...</td>\n",
       "      <td>0</td>\n",
       "      <td>0</td>\n",
       "      <td>0</td>\n",
       "      <td>0</td>\n",
       "      <td>0</td>\n",
       "      <td>0</td>\n",
       "      <td>0</td>\n",
       "      <td>0</td>\n",
       "      <td>0</td>\n",
       "      <td>0</td>\n",
       "    </tr>\n",
       "    <tr>\n",
       "      <th>342</th>\n",
       "      <td>NaN</td>\n",
       "      <td>NaN</td>\n",
       "      <td>NaN</td>\n",
       "      <td>1.0</td>\n",
       "      <td>0</td>\n",
       "      <td>0</td>\n",
       "      <td>0</td>\n",
       "      <td>0</td>\n",
       "      <td>0</td>\n",
       "      <td>0</td>\n",
       "      <td>...</td>\n",
       "      <td>0</td>\n",
       "      <td>0</td>\n",
       "      <td>0</td>\n",
       "      <td>0</td>\n",
       "      <td>0</td>\n",
       "      <td>0</td>\n",
       "      <td>0</td>\n",
       "      <td>0</td>\n",
       "      <td>0</td>\n",
       "      <td>0</td>\n",
       "    </tr>\n",
       "  </tbody>\n",
       "</table>\n",
       "<p>5 rows × 1558 columns</p>\n",
       "</div>"
      ],
      "text/plain": [
       "0     height  width  aratio  local  url*images+buttons  url*likesbooks.com  \\\n",
       "1986    90.0   65.0  0.7222    1.0                   0                   0   \n",
       "496      NaN    NaN     NaN    1.0                   0                   0   \n",
       "2765    36.0  114.0  3.1666    1.0                   0                   0   \n",
       "2495    24.0  120.0  5.0000    0.0                   0                   0   \n",
       "342      NaN    NaN     NaN    1.0                   0                   0   \n",
       "\n",
       "0     url*www.slake.com  url*hydrogeologist  url*oso  url*media     ...       \\\n",
       "1986                  0                   0        0          0     ...        \n",
       "496                   0                   0        0          0     ...        \n",
       "2765                  0                   0        0          0     ...        \n",
       "2495                  0                   0        0          0     ...        \n",
       "342                   0                   0        0          0     ...        \n",
       "\n",
       "0     caption*of  caption*home  caption*my  caption*your  caption*in  \\\n",
       "1986           0             0           0             0           0   \n",
       "496            0             0           0             0           0   \n",
       "2765           0             0           0             0           0   \n",
       "2495           0             0           0             0           0   \n",
       "342            0             0           0             0           0   \n",
       "\n",
       "0     caption*bytes  caption*here  caption*click  caption*for  caption*you  \n",
       "1986              0             0              0            0            0  \n",
       "496               0             0              0            0            0  \n",
       "2765              0             0              0            0            0  \n",
       "2495              0             0              0            0            0  \n",
       "342               0             0              0            0            0  \n",
       "\n",
       "[5 rows x 1558 columns]"
      ]
     },
     "execution_count": 96,
     "metadata": {},
     "output_type": "execute_result"
    }
   ],
   "source": [
    "X_train.head()"
   ]
  },
  {
   "cell_type": "code",
   "execution_count": 97,
   "metadata": {
    "collapsed": false
   },
   "outputs": [
    {
     "name": "stdout",
     "output_type": "stream",
     "text": [
      "X_train Shape: (2623, 1558), y_train Shape: (2623L,)\n",
      "X_test Shape: (656, 1558), y_test Shape: (656L,)\n"
     ]
    }
   ],
   "source": [
    "print 'X_train Shape: %s, y_train Shape: %s' % (str(X_train.shape), str(y_train.shape))\n",
    "print 'X_test Shape: %s, y_test Shape: %s' % (str(X_test.shape), str(y_test.shape))"
   ]
  },
  {
   "cell_type": "markdown",
   "metadata": {},
   "source": [
    "### Impute Data"
   ]
  },
  {
   "cell_type": "code",
   "execution_count": 100,
   "metadata": {
    "collapsed": false
   },
   "outputs": [
    {
     "name": "stdout",
     "output_type": "stream",
     "text": [
      "Wall time: 174 ms\n",
      "Wall time: 13 ms\n"
     ]
    }
   ],
   "source": [
    "imp = Imputer(missing_values='NaN', strategy='mean')\n",
    "%time X_train_imp = pd.DataFrame(imp.fit_transform(X_train), columns = X_train.columns.values)\n",
    "%time X_test_imp = pd.DataFrame(imp.transform(X_test), columns = X_test.columns.values)"
   ]
  },
  {
   "cell_type": "code",
   "execution_count": 103,
   "metadata": {
    "collapsed": false
   },
   "outputs": [
    {
     "data": {
      "text/html": [
       "<div>\n",
       "<table border=\"1\" class=\"dataframe\">\n",
       "  <thead>\n",
       "    <tr style=\"text-align: right;\">\n",
       "      <th></th>\n",
       "      <th>height</th>\n",
       "      <th>width</th>\n",
       "      <th>aratio</th>\n",
       "      <th>local</th>\n",
       "      <th>url*images+buttons</th>\n",
       "      <th>url*likesbooks.com</th>\n",
       "      <th>url*www.slake.com</th>\n",
       "      <th>url*hydrogeologist</th>\n",
       "      <th>url*oso</th>\n",
       "      <th>url*media</th>\n",
       "      <th>...</th>\n",
       "      <th>caption*of</th>\n",
       "      <th>caption*home</th>\n",
       "      <th>caption*my</th>\n",
       "      <th>caption*your</th>\n",
       "      <th>caption*in</th>\n",
       "      <th>caption*bytes</th>\n",
       "      <th>caption*here</th>\n",
       "      <th>caption*click</th>\n",
       "      <th>caption*for</th>\n",
       "      <th>caption*you</th>\n",
       "    </tr>\n",
       "  </thead>\n",
       "  <tbody>\n",
       "    <tr>\n",
       "      <th>0</th>\n",
       "      <td>90.000000</td>\n",
       "      <td>65.000000</td>\n",
       "      <td>0.722200</td>\n",
       "      <td>1.0</td>\n",
       "      <td>0.0</td>\n",
       "      <td>0.0</td>\n",
       "      <td>0.0</td>\n",
       "      <td>0.0</td>\n",
       "      <td>0.0</td>\n",
       "      <td>0.0</td>\n",
       "      <td>...</td>\n",
       "      <td>0.0</td>\n",
       "      <td>0.0</td>\n",
       "      <td>0.0</td>\n",
       "      <td>0.0</td>\n",
       "      <td>0.0</td>\n",
       "      <td>0.0</td>\n",
       "      <td>0.0</td>\n",
       "      <td>0.0</td>\n",
       "      <td>0.0</td>\n",
       "      <td>0.0</td>\n",
       "    </tr>\n",
       "    <tr>\n",
       "      <th>1</th>\n",
       "      <td>64.350656</td>\n",
       "      <td>154.504193</td>\n",
       "      <td>3.872688</td>\n",
       "      <td>1.0</td>\n",
       "      <td>0.0</td>\n",
       "      <td>0.0</td>\n",
       "      <td>0.0</td>\n",
       "      <td>0.0</td>\n",
       "      <td>0.0</td>\n",
       "      <td>0.0</td>\n",
       "      <td>...</td>\n",
       "      <td>0.0</td>\n",
       "      <td>0.0</td>\n",
       "      <td>0.0</td>\n",
       "      <td>0.0</td>\n",
       "      <td>0.0</td>\n",
       "      <td>0.0</td>\n",
       "      <td>0.0</td>\n",
       "      <td>0.0</td>\n",
       "      <td>0.0</td>\n",
       "      <td>0.0</td>\n",
       "    </tr>\n",
       "    <tr>\n",
       "      <th>2</th>\n",
       "      <td>36.000000</td>\n",
       "      <td>114.000000</td>\n",
       "      <td>3.166600</td>\n",
       "      <td>1.0</td>\n",
       "      <td>0.0</td>\n",
       "      <td>0.0</td>\n",
       "      <td>0.0</td>\n",
       "      <td>0.0</td>\n",
       "      <td>0.0</td>\n",
       "      <td>0.0</td>\n",
       "      <td>...</td>\n",
       "      <td>0.0</td>\n",
       "      <td>0.0</td>\n",
       "      <td>0.0</td>\n",
       "      <td>0.0</td>\n",
       "      <td>0.0</td>\n",
       "      <td>0.0</td>\n",
       "      <td>0.0</td>\n",
       "      <td>0.0</td>\n",
       "      <td>0.0</td>\n",
       "      <td>0.0</td>\n",
       "    </tr>\n",
       "    <tr>\n",
       "      <th>3</th>\n",
       "      <td>24.000000</td>\n",
       "      <td>120.000000</td>\n",
       "      <td>5.000000</td>\n",
       "      <td>0.0</td>\n",
       "      <td>0.0</td>\n",
       "      <td>0.0</td>\n",
       "      <td>0.0</td>\n",
       "      <td>0.0</td>\n",
       "      <td>0.0</td>\n",
       "      <td>0.0</td>\n",
       "      <td>...</td>\n",
       "      <td>0.0</td>\n",
       "      <td>0.0</td>\n",
       "      <td>0.0</td>\n",
       "      <td>0.0</td>\n",
       "      <td>0.0</td>\n",
       "      <td>0.0</td>\n",
       "      <td>0.0</td>\n",
       "      <td>0.0</td>\n",
       "      <td>0.0</td>\n",
       "      <td>0.0</td>\n",
       "    </tr>\n",
       "    <tr>\n",
       "      <th>4</th>\n",
       "      <td>64.350656</td>\n",
       "      <td>154.504193</td>\n",
       "      <td>3.872688</td>\n",
       "      <td>1.0</td>\n",
       "      <td>0.0</td>\n",
       "      <td>0.0</td>\n",
       "      <td>0.0</td>\n",
       "      <td>0.0</td>\n",
       "      <td>0.0</td>\n",
       "      <td>0.0</td>\n",
       "      <td>...</td>\n",
       "      <td>0.0</td>\n",
       "      <td>0.0</td>\n",
       "      <td>0.0</td>\n",
       "      <td>0.0</td>\n",
       "      <td>0.0</td>\n",
       "      <td>0.0</td>\n",
       "      <td>0.0</td>\n",
       "      <td>0.0</td>\n",
       "      <td>0.0</td>\n",
       "      <td>0.0</td>\n",
       "    </tr>\n",
       "  </tbody>\n",
       "</table>\n",
       "<p>5 rows × 1558 columns</p>\n",
       "</div>"
      ],
      "text/plain": [
       "      height       width    aratio  local  url*images+buttons  \\\n",
       "0  90.000000   65.000000  0.722200    1.0                 0.0   \n",
       "1  64.350656  154.504193  3.872688    1.0                 0.0   \n",
       "2  36.000000  114.000000  3.166600    1.0                 0.0   \n",
       "3  24.000000  120.000000  5.000000    0.0                 0.0   \n",
       "4  64.350656  154.504193  3.872688    1.0                 0.0   \n",
       "\n",
       "   url*likesbooks.com  url*www.slake.com  url*hydrogeologist  url*oso  \\\n",
       "0                 0.0                0.0                 0.0      0.0   \n",
       "1                 0.0                0.0                 0.0      0.0   \n",
       "2                 0.0                0.0                 0.0      0.0   \n",
       "3                 0.0                0.0                 0.0      0.0   \n",
       "4                 0.0                0.0                 0.0      0.0   \n",
       "\n",
       "   url*media     ...       caption*of  caption*home  caption*my  caption*your  \\\n",
       "0        0.0     ...              0.0           0.0         0.0           0.0   \n",
       "1        0.0     ...              0.0           0.0         0.0           0.0   \n",
       "2        0.0     ...              0.0           0.0         0.0           0.0   \n",
       "3        0.0     ...              0.0           0.0         0.0           0.0   \n",
       "4        0.0     ...              0.0           0.0         0.0           0.0   \n",
       "\n",
       "   caption*in  caption*bytes  caption*here  caption*click  caption*for  \\\n",
       "0         0.0            0.0           0.0            0.0          0.0   \n",
       "1         0.0            0.0           0.0            0.0          0.0   \n",
       "2         0.0            0.0           0.0            0.0          0.0   \n",
       "3         0.0            0.0           0.0            0.0          0.0   \n",
       "4         0.0            0.0           0.0            0.0          0.0   \n",
       "\n",
       "   caption*you  \n",
       "0          0.0  \n",
       "1          0.0  \n",
       "2          0.0  \n",
       "3          0.0  \n",
       "4          0.0  \n",
       "\n",
       "[5 rows x 1558 columns]"
      ]
     },
     "execution_count": 103,
     "metadata": {},
     "output_type": "execute_result"
    }
   ],
   "source": [
    "X_train_imp.head()"
   ]
  },
  {
   "cell_type": "code",
   "execution_count": 101,
   "metadata": {
    "collapsed": false
   },
   "outputs": [
    {
     "name": "stdout",
     "output_type": "stream",
     "text": [
      "X_train Shape: (2623, 1558), y_train Shape: (2623L,)\n",
      "X_test Shape: (656, 1558), y_test Shape: (656L,)\n"
     ]
    }
   ],
   "source": [
    "print 'X_train Shape: %s, y_train Shape: %s' % (str(X_train_imp.shape), str(y_train.shape))\n",
    "print 'X_test Shape: %s, y_test Shape: %s' % (str(X_test_imp.shape), str(y_test.shape))"
   ]
  },
  {
   "cell_type": "markdown",
   "metadata": {},
   "source": [
    "### Standardize Data"
   ]
  },
  {
   "cell_type": "code",
   "execution_count": 106,
   "metadata": {
    "collapsed": false,
    "scrolled": true
   },
   "outputs": [
    {
     "data": {
      "text/html": [
       "<div>\n",
       "<table border=\"1\" class=\"dataframe\">\n",
       "  <thead>\n",
       "    <tr style=\"text-align: right;\">\n",
       "      <th></th>\n",
       "      <th>height</th>\n",
       "      <th>width</th>\n",
       "      <th>aratio</th>\n",
       "    </tr>\n",
       "  </thead>\n",
       "  <tbody>\n",
       "    <tr>\n",
       "      <th>0</th>\n",
       "      <td>90.000000</td>\n",
       "      <td>65.000000</td>\n",
       "      <td>0.722200</td>\n",
       "    </tr>\n",
       "    <tr>\n",
       "      <th>1</th>\n",
       "      <td>64.350656</td>\n",
       "      <td>154.504193</td>\n",
       "      <td>3.872688</td>\n",
       "    </tr>\n",
       "    <tr>\n",
       "      <th>2</th>\n",
       "      <td>36.000000</td>\n",
       "      <td>114.000000</td>\n",
       "      <td>3.166600</td>\n",
       "    </tr>\n",
       "    <tr>\n",
       "      <th>3</th>\n",
       "      <td>24.000000</td>\n",
       "      <td>120.000000</td>\n",
       "      <td>5.000000</td>\n",
       "    </tr>\n",
       "    <tr>\n",
       "      <th>4</th>\n",
       "      <td>64.350656</td>\n",
       "      <td>154.504193</td>\n",
       "      <td>3.872688</td>\n",
       "    </tr>\n",
       "    <tr>\n",
       "      <th>5</th>\n",
       "      <td>22.000000</td>\n",
       "      <td>204.000000</td>\n",
       "      <td>9.272700</td>\n",
       "    </tr>\n",
       "    <tr>\n",
       "      <th>6</th>\n",
       "      <td>64.350656</td>\n",
       "      <td>154.504193</td>\n",
       "      <td>3.872688</td>\n",
       "    </tr>\n",
       "    <tr>\n",
       "      <th>7</th>\n",
       "      <td>35.000000</td>\n",
       "      <td>135.000000</td>\n",
       "      <td>3.857100</td>\n",
       "    </tr>\n",
       "    <tr>\n",
       "      <th>8</th>\n",
       "      <td>133.000000</td>\n",
       "      <td>200.000000</td>\n",
       "      <td>1.503700</td>\n",
       "    </tr>\n",
       "    <tr>\n",
       "      <th>9</th>\n",
       "      <td>64.350656</td>\n",
       "      <td>154.504193</td>\n",
       "      <td>3.872688</td>\n",
       "    </tr>\n",
       "    <tr>\n",
       "      <th>10</th>\n",
       "      <td>64.350656</td>\n",
       "      <td>154.504193</td>\n",
       "      <td>3.872688</td>\n",
       "    </tr>\n",
       "    <tr>\n",
       "      <th>11</th>\n",
       "      <td>64.350656</td>\n",
       "      <td>154.504193</td>\n",
       "      <td>3.872688</td>\n",
       "    </tr>\n",
       "    <tr>\n",
       "      <th>12</th>\n",
       "      <td>64.350656</td>\n",
       "      <td>154.504193</td>\n",
       "      <td>3.872688</td>\n",
       "    </tr>\n",
       "    <tr>\n",
       "      <th>13</th>\n",
       "      <td>64.350656</td>\n",
       "      <td>154.504193</td>\n",
       "      <td>3.872688</td>\n",
       "    </tr>\n",
       "    <tr>\n",
       "      <th>14</th>\n",
       "      <td>64.350656</td>\n",
       "      <td>154.504193</td>\n",
       "      <td>3.872688</td>\n",
       "    </tr>\n",
       "    <tr>\n",
       "      <th>15</th>\n",
       "      <td>60.000000</td>\n",
       "      <td>468.000000</td>\n",
       "      <td>7.800000</td>\n",
       "    </tr>\n",
       "    <tr>\n",
       "      <th>16</th>\n",
       "      <td>40.000000</td>\n",
       "      <td>40.000000</td>\n",
       "      <td>1.000000</td>\n",
       "    </tr>\n",
       "    <tr>\n",
       "      <th>17</th>\n",
       "      <td>101.000000</td>\n",
       "      <td>389.000000</td>\n",
       "      <td>3.851400</td>\n",
       "    </tr>\n",
       "    <tr>\n",
       "      <th>18</th>\n",
       "      <td>33.000000</td>\n",
       "      <td>230.000000</td>\n",
       "      <td>6.969600</td>\n",
       "    </tr>\n",
       "    <tr>\n",
       "      <th>19</th>\n",
       "      <td>64.350656</td>\n",
       "      <td>154.504193</td>\n",
       "      <td>3.872688</td>\n",
       "    </tr>\n",
       "    <tr>\n",
       "      <th>20</th>\n",
       "      <td>50.000000</td>\n",
       "      <td>107.000000</td>\n",
       "      <td>2.140000</td>\n",
       "    </tr>\n",
       "    <tr>\n",
       "      <th>21</th>\n",
       "      <td>16.000000</td>\n",
       "      <td>16.000000</td>\n",
       "      <td>1.000000</td>\n",
       "    </tr>\n",
       "    <tr>\n",
       "      <th>22</th>\n",
       "      <td>64.350656</td>\n",
       "      <td>154.504193</td>\n",
       "      <td>3.872688</td>\n",
       "    </tr>\n",
       "    <tr>\n",
       "      <th>23</th>\n",
       "      <td>134.000000</td>\n",
       "      <td>184.000000</td>\n",
       "      <td>1.373100</td>\n",
       "    </tr>\n",
       "    <tr>\n",
       "      <th>24</th>\n",
       "      <td>119.000000</td>\n",
       "      <td>152.000000</td>\n",
       "      <td>1.277300</td>\n",
       "    </tr>\n",
       "    <tr>\n",
       "      <th>25</th>\n",
       "      <td>60.000000</td>\n",
       "      <td>468.000000</td>\n",
       "      <td>7.800000</td>\n",
       "    </tr>\n",
       "    <tr>\n",
       "      <th>26</th>\n",
       "      <td>60.000000</td>\n",
       "      <td>196.000000</td>\n",
       "      <td>3.266600</td>\n",
       "    </tr>\n",
       "    <tr>\n",
       "      <th>27</th>\n",
       "      <td>64.350656</td>\n",
       "      <td>154.504193</td>\n",
       "      <td>3.872688</td>\n",
       "    </tr>\n",
       "    <tr>\n",
       "      <th>28</th>\n",
       "      <td>80.000000</td>\n",
       "      <td>78.000000</td>\n",
       "      <td>0.975000</td>\n",
       "    </tr>\n",
       "    <tr>\n",
       "      <th>29</th>\n",
       "      <td>11.000000</td>\n",
       "      <td>96.000000</td>\n",
       "      <td>8.727200</td>\n",
       "    </tr>\n",
       "    <tr>\n",
       "      <th>...</th>\n",
       "      <td>...</td>\n",
       "      <td>...</td>\n",
       "      <td>...</td>\n",
       "    </tr>\n",
       "    <tr>\n",
       "      <th>2593</th>\n",
       "      <td>75.000000</td>\n",
       "      <td>200.000000</td>\n",
       "      <td>2.666600</td>\n",
       "    </tr>\n",
       "    <tr>\n",
       "      <th>2594</th>\n",
       "      <td>16.000000</td>\n",
       "      <td>140.000000</td>\n",
       "      <td>8.750000</td>\n",
       "    </tr>\n",
       "    <tr>\n",
       "      <th>2595</th>\n",
       "      <td>50.000000</td>\n",
       "      <td>107.000000</td>\n",
       "      <td>2.140000</td>\n",
       "    </tr>\n",
       "    <tr>\n",
       "      <th>2596</th>\n",
       "      <td>35.000000</td>\n",
       "      <td>54.000000</td>\n",
       "      <td>1.542800</td>\n",
       "    </tr>\n",
       "    <tr>\n",
       "      <th>2597</th>\n",
       "      <td>45.000000</td>\n",
       "      <td>345.000000</td>\n",
       "      <td>7.666600</td>\n",
       "    </tr>\n",
       "    <tr>\n",
       "      <th>2598</th>\n",
       "      <td>12.000000</td>\n",
       "      <td>123.000000</td>\n",
       "      <td>10.250000</td>\n",
       "    </tr>\n",
       "    <tr>\n",
       "      <th>2599</th>\n",
       "      <td>140.000000</td>\n",
       "      <td>180.000000</td>\n",
       "      <td>1.285700</td>\n",
       "    </tr>\n",
       "    <tr>\n",
       "      <th>2600</th>\n",
       "      <td>11.000000</td>\n",
       "      <td>94.000000</td>\n",
       "      <td>8.545400</td>\n",
       "    </tr>\n",
       "    <tr>\n",
       "      <th>2601</th>\n",
       "      <td>56.000000</td>\n",
       "      <td>100.000000</td>\n",
       "      <td>1.785700</td>\n",
       "    </tr>\n",
       "    <tr>\n",
       "      <th>2602</th>\n",
       "      <td>64.000000</td>\n",
       "      <td>144.000000</td>\n",
       "      <td>2.250000</td>\n",
       "    </tr>\n",
       "    <tr>\n",
       "      <th>2603</th>\n",
       "      <td>60.000000</td>\n",
       "      <td>234.000000</td>\n",
       "      <td>3.900000</td>\n",
       "    </tr>\n",
       "    <tr>\n",
       "      <th>2604</th>\n",
       "      <td>20.000000</td>\n",
       "      <td>92.000000</td>\n",
       "      <td>4.600000</td>\n",
       "    </tr>\n",
       "    <tr>\n",
       "      <th>2605</th>\n",
       "      <td>64.350656</td>\n",
       "      <td>154.504193</td>\n",
       "      <td>3.872688</td>\n",
       "    </tr>\n",
       "    <tr>\n",
       "      <th>2606</th>\n",
       "      <td>173.000000</td>\n",
       "      <td>150.000000</td>\n",
       "      <td>0.867000</td>\n",
       "    </tr>\n",
       "    <tr>\n",
       "      <th>2607</th>\n",
       "      <td>64.350656</td>\n",
       "      <td>154.504193</td>\n",
       "      <td>3.872688</td>\n",
       "    </tr>\n",
       "    <tr>\n",
       "      <th>2608</th>\n",
       "      <td>109.000000</td>\n",
       "      <td>110.000000</td>\n",
       "      <td>1.009100</td>\n",
       "    </tr>\n",
       "    <tr>\n",
       "      <th>2609</th>\n",
       "      <td>60.000000</td>\n",
       "      <td>468.000000</td>\n",
       "      <td>7.800000</td>\n",
       "    </tr>\n",
       "    <tr>\n",
       "      <th>2610</th>\n",
       "      <td>64.350656</td>\n",
       "      <td>154.504193</td>\n",
       "      <td>3.872688</td>\n",
       "    </tr>\n",
       "    <tr>\n",
       "      <th>2611</th>\n",
       "      <td>64.350656</td>\n",
       "      <td>154.504193</td>\n",
       "      <td>3.872688</td>\n",
       "    </tr>\n",
       "    <tr>\n",
       "      <th>2612</th>\n",
       "      <td>23.000000</td>\n",
       "      <td>19.000000</td>\n",
       "      <td>0.826000</td>\n",
       "    </tr>\n",
       "    <tr>\n",
       "      <th>2613</th>\n",
       "      <td>64.350656</td>\n",
       "      <td>154.504193</td>\n",
       "      <td>3.872688</td>\n",
       "    </tr>\n",
       "    <tr>\n",
       "      <th>2614</th>\n",
       "      <td>25.000000</td>\n",
       "      <td>100.000000</td>\n",
       "      <td>4.000000</td>\n",
       "    </tr>\n",
       "    <tr>\n",
       "      <th>2615</th>\n",
       "      <td>82.000000</td>\n",
       "      <td>77.000000</td>\n",
       "      <td>0.939000</td>\n",
       "    </tr>\n",
       "    <tr>\n",
       "      <th>2616</th>\n",
       "      <td>160.000000</td>\n",
       "      <td>126.000000</td>\n",
       "      <td>0.787500</td>\n",
       "    </tr>\n",
       "    <tr>\n",
       "      <th>2617</th>\n",
       "      <td>93.000000</td>\n",
       "      <td>135.000000</td>\n",
       "      <td>1.451600</td>\n",
       "    </tr>\n",
       "    <tr>\n",
       "      <th>2618</th>\n",
       "      <td>120.000000</td>\n",
       "      <td>130.000000</td>\n",
       "      <td>1.083300</td>\n",
       "    </tr>\n",
       "    <tr>\n",
       "      <th>2619</th>\n",
       "      <td>100.000000</td>\n",
       "      <td>100.000000</td>\n",
       "      <td>1.000000</td>\n",
       "    </tr>\n",
       "    <tr>\n",
       "      <th>2620</th>\n",
       "      <td>11.000000</td>\n",
       "      <td>96.000000</td>\n",
       "      <td>8.727200</td>\n",
       "    </tr>\n",
       "    <tr>\n",
       "      <th>2621</th>\n",
       "      <td>46.000000</td>\n",
       "      <td>96.000000</td>\n",
       "      <td>2.086900</td>\n",
       "    </tr>\n",
       "    <tr>\n",
       "      <th>2622</th>\n",
       "      <td>64.350656</td>\n",
       "      <td>154.504193</td>\n",
       "      <td>3.872688</td>\n",
       "    </tr>\n",
       "  </tbody>\n",
       "</table>\n",
       "<p>2623 rows × 3 columns</p>\n",
       "</div>"
      ],
      "text/plain": [
       "          height       width     aratio\n",
       "0      90.000000   65.000000   0.722200\n",
       "1      64.350656  154.504193   3.872688\n",
       "2      36.000000  114.000000   3.166600\n",
       "3      24.000000  120.000000   5.000000\n",
       "4      64.350656  154.504193   3.872688\n",
       "5      22.000000  204.000000   9.272700\n",
       "6      64.350656  154.504193   3.872688\n",
       "7      35.000000  135.000000   3.857100\n",
       "8     133.000000  200.000000   1.503700\n",
       "9      64.350656  154.504193   3.872688\n",
       "10     64.350656  154.504193   3.872688\n",
       "11     64.350656  154.504193   3.872688\n",
       "12     64.350656  154.504193   3.872688\n",
       "13     64.350656  154.504193   3.872688\n",
       "14     64.350656  154.504193   3.872688\n",
       "15     60.000000  468.000000   7.800000\n",
       "16     40.000000   40.000000   1.000000\n",
       "17    101.000000  389.000000   3.851400\n",
       "18     33.000000  230.000000   6.969600\n",
       "19     64.350656  154.504193   3.872688\n",
       "20     50.000000  107.000000   2.140000\n",
       "21     16.000000   16.000000   1.000000\n",
       "22     64.350656  154.504193   3.872688\n",
       "23    134.000000  184.000000   1.373100\n",
       "24    119.000000  152.000000   1.277300\n",
       "25     60.000000  468.000000   7.800000\n",
       "26     60.000000  196.000000   3.266600\n",
       "27     64.350656  154.504193   3.872688\n",
       "28     80.000000   78.000000   0.975000\n",
       "29     11.000000   96.000000   8.727200\n",
       "...          ...         ...        ...\n",
       "2593   75.000000  200.000000   2.666600\n",
       "2594   16.000000  140.000000   8.750000\n",
       "2595   50.000000  107.000000   2.140000\n",
       "2596   35.000000   54.000000   1.542800\n",
       "2597   45.000000  345.000000   7.666600\n",
       "2598   12.000000  123.000000  10.250000\n",
       "2599  140.000000  180.000000   1.285700\n",
       "2600   11.000000   94.000000   8.545400\n",
       "2601   56.000000  100.000000   1.785700\n",
       "2602   64.000000  144.000000   2.250000\n",
       "2603   60.000000  234.000000   3.900000\n",
       "2604   20.000000   92.000000   4.600000\n",
       "2605   64.350656  154.504193   3.872688\n",
       "2606  173.000000  150.000000   0.867000\n",
       "2607   64.350656  154.504193   3.872688\n",
       "2608  109.000000  110.000000   1.009100\n",
       "2609   60.000000  468.000000   7.800000\n",
       "2610   64.350656  154.504193   3.872688\n",
       "2611   64.350656  154.504193   3.872688\n",
       "2612   23.000000   19.000000   0.826000\n",
       "2613   64.350656  154.504193   3.872688\n",
       "2614   25.000000  100.000000   4.000000\n",
       "2615   82.000000   77.000000   0.939000\n",
       "2616  160.000000  126.000000   0.787500\n",
       "2617   93.000000  135.000000   1.451600\n",
       "2618  120.000000  130.000000   1.083300\n",
       "2619  100.000000  100.000000   1.000000\n",
       "2620   11.000000   96.000000   8.727200\n",
       "2621   46.000000   96.000000   2.086900\n",
       "2622   64.350656  154.504193   3.872688\n",
       "\n",
       "[2623 rows x 3 columns]"
      ]
     },
     "execution_count": 106,
     "metadata": {},
     "output_type": "execute_result"
    }
   ],
   "source": [
    "X_train_imp[['height','width','aratio']]"
   ]
  },
  {
   "cell_type": "code",
   "execution_count": 136,
   "metadata": {
    "collapsed": false
   },
   "outputs": [
    {
     "name": "stdout",
     "output_type": "stream",
     "text": [
      "Wall time: 1 ms\n",
      "Wall time: 1e+03 µs\n"
     ]
    }
   ],
   "source": [
    "stdsc = StandardScaler()\n",
    "%time X_train_std_tmp = pd.DataFrame(stdsc.fit_transform(X_train_imp.ix[:,0:3]), columns = ['height','width','aratio'])\n",
    "%time X_test_std_tmp = pd.DataFrame(stdsc.transform(X_test_imp.ix[:,0:3]), columns = ['height','width','aratio'])"
   ]
  },
  {
   "cell_type": "code",
   "execution_count": 137,
   "metadata": {
    "collapsed": false
   },
   "outputs": [
    {
     "data": {
      "text/html": [
       "<div>\n",
       "<table border=\"1\" class=\"dataframe\">\n",
       "  <thead>\n",
       "    <tr style=\"text-align: right;\">\n",
       "      <th></th>\n",
       "      <th>height</th>\n",
       "      <th>width</th>\n",
       "      <th>aratio</th>\n",
       "    </tr>\n",
       "  </thead>\n",
       "  <tbody>\n",
       "    <tr>\n",
       "      <th>0</th>\n",
       "      <td>0.539681</td>\n",
       "      <td>-0.808092</td>\n",
       "      <td>-0.612159</td>\n",
       "    </tr>\n",
       "    <tr>\n",
       "      <th>1</th>\n",
       "      <td>0.000000</td>\n",
       "      <td>0.000000</td>\n",
       "      <td>0.000000</td>\n",
       "    </tr>\n",
       "    <tr>\n",
       "      <th>2</th>\n",
       "      <td>-0.596519</td>\n",
       "      <td>-0.365693</td>\n",
       "      <td>-0.137197</td>\n",
       "    </tr>\n",
       "    <tr>\n",
       "      <th>3</th>\n",
       "      <td>-0.849008</td>\n",
       "      <td>-0.311522</td>\n",
       "      <td>0.219044</td>\n",
       "    </tr>\n",
       "    <tr>\n",
       "      <th>4</th>\n",
       "      <td>0.000000</td>\n",
       "      <td>0.000000</td>\n",
       "      <td>0.000000</td>\n",
       "    </tr>\n",
       "  </tbody>\n",
       "</table>\n",
       "</div>"
      ],
      "text/plain": [
       "     height     width    aratio\n",
       "0  0.539681 -0.808092 -0.612159\n",
       "1  0.000000  0.000000  0.000000\n",
       "2 -0.596519 -0.365693 -0.137197\n",
       "3 -0.849008 -0.311522  0.219044\n",
       "4  0.000000  0.000000  0.000000"
      ]
     },
     "execution_count": 137,
     "metadata": {},
     "output_type": "execute_result"
    }
   ],
   "source": [
    "X_train_std_tmp.head()"
   ]
  },
  {
   "cell_type": "code",
   "execution_count": 130,
   "metadata": {
    "collapsed": false
   },
   "outputs": [
    {
     "data": {
      "text/html": [
       "<div>\n",
       "<table border=\"1\" class=\"dataframe\">\n",
       "  <thead>\n",
       "    <tr style=\"text-align: right;\">\n",
       "      <th></th>\n",
       "      <th>local</th>\n",
       "      <th>url*images+buttons</th>\n",
       "      <th>url*likesbooks.com</th>\n",
       "      <th>url*www.slake.com</th>\n",
       "      <th>url*hydrogeologist</th>\n",
       "      <th>url*oso</th>\n",
       "      <th>url*media</th>\n",
       "      <th>url*peace+images</th>\n",
       "      <th>url*blipverts</th>\n",
       "      <th>url*tkaine+kats</th>\n",
       "      <th>...</th>\n",
       "      <th>caption*of</th>\n",
       "      <th>caption*home</th>\n",
       "      <th>caption*my</th>\n",
       "      <th>caption*your</th>\n",
       "      <th>caption*in</th>\n",
       "      <th>caption*bytes</th>\n",
       "      <th>caption*here</th>\n",
       "      <th>caption*click</th>\n",
       "      <th>caption*for</th>\n",
       "      <th>caption*you</th>\n",
       "    </tr>\n",
       "  </thead>\n",
       "  <tbody>\n",
       "    <tr>\n",
       "      <th>0</th>\n",
       "      <td>1.0</td>\n",
       "      <td>0.0</td>\n",
       "      <td>0.0</td>\n",
       "      <td>0.0</td>\n",
       "      <td>0.0</td>\n",
       "      <td>0.0</td>\n",
       "      <td>0.0</td>\n",
       "      <td>0.0</td>\n",
       "      <td>0.0</td>\n",
       "      <td>0.0</td>\n",
       "      <td>...</td>\n",
       "      <td>0.0</td>\n",
       "      <td>0.0</td>\n",
       "      <td>0.0</td>\n",
       "      <td>0.0</td>\n",
       "      <td>0.0</td>\n",
       "      <td>0.0</td>\n",
       "      <td>0.0</td>\n",
       "      <td>0.0</td>\n",
       "      <td>0.0</td>\n",
       "      <td>0.0</td>\n",
       "    </tr>\n",
       "    <tr>\n",
       "      <th>1</th>\n",
       "      <td>1.0</td>\n",
       "      <td>0.0</td>\n",
       "      <td>0.0</td>\n",
       "      <td>0.0</td>\n",
       "      <td>0.0</td>\n",
       "      <td>0.0</td>\n",
       "      <td>0.0</td>\n",
       "      <td>0.0</td>\n",
       "      <td>0.0</td>\n",
       "      <td>0.0</td>\n",
       "      <td>...</td>\n",
       "      <td>0.0</td>\n",
       "      <td>0.0</td>\n",
       "      <td>0.0</td>\n",
       "      <td>0.0</td>\n",
       "      <td>0.0</td>\n",
       "      <td>0.0</td>\n",
       "      <td>0.0</td>\n",
       "      <td>0.0</td>\n",
       "      <td>0.0</td>\n",
       "      <td>0.0</td>\n",
       "    </tr>\n",
       "    <tr>\n",
       "      <th>2</th>\n",
       "      <td>1.0</td>\n",
       "      <td>0.0</td>\n",
       "      <td>0.0</td>\n",
       "      <td>0.0</td>\n",
       "      <td>0.0</td>\n",
       "      <td>0.0</td>\n",
       "      <td>0.0</td>\n",
       "      <td>0.0</td>\n",
       "      <td>0.0</td>\n",
       "      <td>0.0</td>\n",
       "      <td>...</td>\n",
       "      <td>0.0</td>\n",
       "      <td>0.0</td>\n",
       "      <td>0.0</td>\n",
       "      <td>0.0</td>\n",
       "      <td>0.0</td>\n",
       "      <td>0.0</td>\n",
       "      <td>0.0</td>\n",
       "      <td>0.0</td>\n",
       "      <td>0.0</td>\n",
       "      <td>0.0</td>\n",
       "    </tr>\n",
       "    <tr>\n",
       "      <th>3</th>\n",
       "      <td>0.0</td>\n",
       "      <td>0.0</td>\n",
       "      <td>0.0</td>\n",
       "      <td>0.0</td>\n",
       "      <td>0.0</td>\n",
       "      <td>0.0</td>\n",
       "      <td>0.0</td>\n",
       "      <td>0.0</td>\n",
       "      <td>0.0</td>\n",
       "      <td>0.0</td>\n",
       "      <td>...</td>\n",
       "      <td>0.0</td>\n",
       "      <td>0.0</td>\n",
       "      <td>0.0</td>\n",
       "      <td>0.0</td>\n",
       "      <td>0.0</td>\n",
       "      <td>0.0</td>\n",
       "      <td>0.0</td>\n",
       "      <td>0.0</td>\n",
       "      <td>0.0</td>\n",
       "      <td>0.0</td>\n",
       "    </tr>\n",
       "    <tr>\n",
       "      <th>4</th>\n",
       "      <td>1.0</td>\n",
       "      <td>0.0</td>\n",
       "      <td>0.0</td>\n",
       "      <td>0.0</td>\n",
       "      <td>0.0</td>\n",
       "      <td>0.0</td>\n",
       "      <td>0.0</td>\n",
       "      <td>0.0</td>\n",
       "      <td>0.0</td>\n",
       "      <td>0.0</td>\n",
       "      <td>...</td>\n",
       "      <td>0.0</td>\n",
       "      <td>0.0</td>\n",
       "      <td>0.0</td>\n",
       "      <td>0.0</td>\n",
       "      <td>0.0</td>\n",
       "      <td>0.0</td>\n",
       "      <td>0.0</td>\n",
       "      <td>0.0</td>\n",
       "      <td>0.0</td>\n",
       "      <td>0.0</td>\n",
       "    </tr>\n",
       "  </tbody>\n",
       "</table>\n",
       "<p>5 rows × 1555 columns</p>\n",
       "</div>"
      ],
      "text/plain": [
       "   local  url*images+buttons  url*likesbooks.com  url*www.slake.com  \\\n",
       "0    1.0                 0.0                 0.0                0.0   \n",
       "1    1.0                 0.0                 0.0                0.0   \n",
       "2    1.0                 0.0                 0.0                0.0   \n",
       "3    0.0                 0.0                 0.0                0.0   \n",
       "4    1.0                 0.0                 0.0                0.0   \n",
       "\n",
       "   url*hydrogeologist  url*oso  url*media  url*peace+images  url*blipverts  \\\n",
       "0                 0.0      0.0        0.0               0.0            0.0   \n",
       "1                 0.0      0.0        0.0               0.0            0.0   \n",
       "2                 0.0      0.0        0.0               0.0            0.0   \n",
       "3                 0.0      0.0        0.0               0.0            0.0   \n",
       "4                 0.0      0.0        0.0               0.0            0.0   \n",
       "\n",
       "   url*tkaine+kats     ...       caption*of  caption*home  caption*my  \\\n",
       "0              0.0     ...              0.0           0.0         0.0   \n",
       "1              0.0     ...              0.0           0.0         0.0   \n",
       "2              0.0     ...              0.0           0.0         0.0   \n",
       "3              0.0     ...              0.0           0.0         0.0   \n",
       "4              0.0     ...              0.0           0.0         0.0   \n",
       "\n",
       "   caption*your  caption*in  caption*bytes  caption*here  caption*click  \\\n",
       "0           0.0         0.0            0.0           0.0            0.0   \n",
       "1           0.0         0.0            0.0           0.0            0.0   \n",
       "2           0.0         0.0            0.0           0.0            0.0   \n",
       "3           0.0         0.0            0.0           0.0            0.0   \n",
       "4           0.0         0.0            0.0           0.0            0.0   \n",
       "\n",
       "   caption*for  caption*you  \n",
       "0          0.0          0.0  \n",
       "1          0.0          0.0  \n",
       "2          0.0          0.0  \n",
       "3          0.0          0.0  \n",
       "4          0.0          0.0  \n",
       "\n",
       "[5 rows x 1555 columns]"
      ]
     },
     "execution_count": 130,
     "metadata": {},
     "output_type": "execute_result"
    }
   ],
   "source": [
    "X_train_imp.ix[:,3:1558].head()"
   ]
  },
  {
   "cell_type": "code",
   "execution_count": 138,
   "metadata": {
    "collapsed": false
   },
   "outputs": [
    {
     "data": {
      "text/plain": [
       "((2623, 1558), (656, 1558))"
      ]
     },
     "execution_count": 138,
     "metadata": {},
     "output_type": "execute_result"
    }
   ],
   "source": [
    "X_train_std = pd.concat([X_train_std_tmp,X_train_imp.ix[:,3:1558]], axis=1)\n",
    "X_test_std = pd.concat([X_test_std_tmp,X_test_imp.ix[:,3:1558]], axis=1)\n",
    "X_train_std.shape, X_test_std.shape"
   ]
  },
  {
   "cell_type": "code",
   "execution_count": 139,
   "metadata": {
    "collapsed": false
   },
   "outputs": [
    {
     "data": {
      "text/html": [
       "<div>\n",
       "<table border=\"1\" class=\"dataframe\">\n",
       "  <thead>\n",
       "    <tr style=\"text-align: right;\">\n",
       "      <th></th>\n",
       "      <th>height</th>\n",
       "      <th>width</th>\n",
       "      <th>aratio</th>\n",
       "      <th>local</th>\n",
       "      <th>url*images+buttons</th>\n",
       "      <th>url*likesbooks.com</th>\n",
       "      <th>url*www.slake.com</th>\n",
       "      <th>url*hydrogeologist</th>\n",
       "      <th>url*oso</th>\n",
       "      <th>url*media</th>\n",
       "      <th>...</th>\n",
       "      <th>caption*of</th>\n",
       "      <th>caption*home</th>\n",
       "      <th>caption*my</th>\n",
       "      <th>caption*your</th>\n",
       "      <th>caption*in</th>\n",
       "      <th>caption*bytes</th>\n",
       "      <th>caption*here</th>\n",
       "      <th>caption*click</th>\n",
       "      <th>caption*for</th>\n",
       "      <th>caption*you</th>\n",
       "    </tr>\n",
       "  </thead>\n",
       "  <tbody>\n",
       "    <tr>\n",
       "      <th>0</th>\n",
       "      <td>0.539681</td>\n",
       "      <td>-0.808092</td>\n",
       "      <td>-0.612159</td>\n",
       "      <td>1.0</td>\n",
       "      <td>0.0</td>\n",
       "      <td>0.0</td>\n",
       "      <td>0.0</td>\n",
       "      <td>0.0</td>\n",
       "      <td>0.0</td>\n",
       "      <td>0.0</td>\n",
       "      <td>...</td>\n",
       "      <td>0.0</td>\n",
       "      <td>0.0</td>\n",
       "      <td>0.0</td>\n",
       "      <td>0.0</td>\n",
       "      <td>0.0</td>\n",
       "      <td>0.0</td>\n",
       "      <td>0.0</td>\n",
       "      <td>0.0</td>\n",
       "      <td>0.0</td>\n",
       "      <td>0.0</td>\n",
       "    </tr>\n",
       "    <tr>\n",
       "      <th>1</th>\n",
       "      <td>0.000000</td>\n",
       "      <td>0.000000</td>\n",
       "      <td>0.000000</td>\n",
       "      <td>1.0</td>\n",
       "      <td>0.0</td>\n",
       "      <td>0.0</td>\n",
       "      <td>0.0</td>\n",
       "      <td>0.0</td>\n",
       "      <td>0.0</td>\n",
       "      <td>0.0</td>\n",
       "      <td>...</td>\n",
       "      <td>0.0</td>\n",
       "      <td>0.0</td>\n",
       "      <td>0.0</td>\n",
       "      <td>0.0</td>\n",
       "      <td>0.0</td>\n",
       "      <td>0.0</td>\n",
       "      <td>0.0</td>\n",
       "      <td>0.0</td>\n",
       "      <td>0.0</td>\n",
       "      <td>0.0</td>\n",
       "    </tr>\n",
       "    <tr>\n",
       "      <th>2</th>\n",
       "      <td>-0.596519</td>\n",
       "      <td>-0.365693</td>\n",
       "      <td>-0.137197</td>\n",
       "      <td>1.0</td>\n",
       "      <td>0.0</td>\n",
       "      <td>0.0</td>\n",
       "      <td>0.0</td>\n",
       "      <td>0.0</td>\n",
       "      <td>0.0</td>\n",
       "      <td>0.0</td>\n",
       "      <td>...</td>\n",
       "      <td>0.0</td>\n",
       "      <td>0.0</td>\n",
       "      <td>0.0</td>\n",
       "      <td>0.0</td>\n",
       "      <td>0.0</td>\n",
       "      <td>0.0</td>\n",
       "      <td>0.0</td>\n",
       "      <td>0.0</td>\n",
       "      <td>0.0</td>\n",
       "      <td>0.0</td>\n",
       "    </tr>\n",
       "    <tr>\n",
       "      <th>3</th>\n",
       "      <td>-0.849008</td>\n",
       "      <td>-0.311522</td>\n",
       "      <td>0.219044</td>\n",
       "      <td>0.0</td>\n",
       "      <td>0.0</td>\n",
       "      <td>0.0</td>\n",
       "      <td>0.0</td>\n",
       "      <td>0.0</td>\n",
       "      <td>0.0</td>\n",
       "      <td>0.0</td>\n",
       "      <td>...</td>\n",
       "      <td>0.0</td>\n",
       "      <td>0.0</td>\n",
       "      <td>0.0</td>\n",
       "      <td>0.0</td>\n",
       "      <td>0.0</td>\n",
       "      <td>0.0</td>\n",
       "      <td>0.0</td>\n",
       "      <td>0.0</td>\n",
       "      <td>0.0</td>\n",
       "      <td>0.0</td>\n",
       "    </tr>\n",
       "    <tr>\n",
       "      <th>4</th>\n",
       "      <td>0.000000</td>\n",
       "      <td>0.000000</td>\n",
       "      <td>0.000000</td>\n",
       "      <td>1.0</td>\n",
       "      <td>0.0</td>\n",
       "      <td>0.0</td>\n",
       "      <td>0.0</td>\n",
       "      <td>0.0</td>\n",
       "      <td>0.0</td>\n",
       "      <td>0.0</td>\n",
       "      <td>...</td>\n",
       "      <td>0.0</td>\n",
       "      <td>0.0</td>\n",
       "      <td>0.0</td>\n",
       "      <td>0.0</td>\n",
       "      <td>0.0</td>\n",
       "      <td>0.0</td>\n",
       "      <td>0.0</td>\n",
       "      <td>0.0</td>\n",
       "      <td>0.0</td>\n",
       "      <td>0.0</td>\n",
       "    </tr>\n",
       "  </tbody>\n",
       "</table>\n",
       "<p>5 rows × 1558 columns</p>\n",
       "</div>"
      ],
      "text/plain": [
       "     height     width    aratio  local  url*images+buttons  \\\n",
       "0  0.539681 -0.808092 -0.612159    1.0                 0.0   \n",
       "1  0.000000  0.000000  0.000000    1.0                 0.0   \n",
       "2 -0.596519 -0.365693 -0.137197    1.0                 0.0   \n",
       "3 -0.849008 -0.311522  0.219044    0.0                 0.0   \n",
       "4  0.000000  0.000000  0.000000    1.0                 0.0   \n",
       "\n",
       "   url*likesbooks.com  url*www.slake.com  url*hydrogeologist  url*oso  \\\n",
       "0                 0.0                0.0                 0.0      0.0   \n",
       "1                 0.0                0.0                 0.0      0.0   \n",
       "2                 0.0                0.0                 0.0      0.0   \n",
       "3                 0.0                0.0                 0.0      0.0   \n",
       "4                 0.0                0.0                 0.0      0.0   \n",
       "\n",
       "   url*media     ...       caption*of  caption*home  caption*my  caption*your  \\\n",
       "0        0.0     ...              0.0           0.0         0.0           0.0   \n",
       "1        0.0     ...              0.0           0.0         0.0           0.0   \n",
       "2        0.0     ...              0.0           0.0         0.0           0.0   \n",
       "3        0.0     ...              0.0           0.0         0.0           0.0   \n",
       "4        0.0     ...              0.0           0.0         0.0           0.0   \n",
       "\n",
       "   caption*in  caption*bytes  caption*here  caption*click  caption*for  \\\n",
       "0         0.0            0.0           0.0            0.0          0.0   \n",
       "1         0.0            0.0           0.0            0.0          0.0   \n",
       "2         0.0            0.0           0.0            0.0          0.0   \n",
       "3         0.0            0.0           0.0            0.0          0.0   \n",
       "4         0.0            0.0           0.0            0.0          0.0   \n",
       "\n",
       "   caption*you  \n",
       "0          0.0  \n",
       "1          0.0  \n",
       "2          0.0  \n",
       "3          0.0  \n",
       "4          0.0  \n",
       "\n",
       "[5 rows x 1558 columns]"
      ]
     },
     "execution_count": 139,
     "metadata": {},
     "output_type": "execute_result"
    }
   ],
   "source": [
    "X_train_std.head()"
   ]
  },
  {
   "cell_type": "markdown",
   "metadata": {},
   "source": [
    "### Select Features Using Principle Component Analysis"
   ]
  },
  {
   "cell_type": "code",
   "execution_count": 205,
   "metadata": {
    "collapsed": false
   },
   "outputs": [
    {
     "name": "stdout",
     "output_type": "stream",
     "text": [
      "Wall time: 3.47 s\n",
      "Wall time: 21 ms\n"
     ]
    }
   ],
   "source": [
    "pca = PCA(n_components=0.9)\n",
    "%time X_train_pca = pca.fit_transform(X_train_std)\n",
    "%time X_test_pca = pca.transform(X_test_std)"
   ]
  },
  {
   "cell_type": "code",
   "execution_count": 206,
   "metadata": {
    "collapsed": false
   },
   "outputs": [
    {
     "data": {
      "text/plain": [
       "array([ 0.11169111,  0.0927008 ,  0.05902631,  0.03728182,  0.02471957,\n",
       "        0.02431037,  0.02124087,  0.01768988,  0.01525561,  0.01342111,\n",
       "        0.0118184 ,  0.01143971,  0.01128154,  0.01022271,  0.01000152,\n",
       "        0.00954137,  0.00941227,  0.00904128,  0.00887915,  0.00847654,\n",
       "        0.00843625,  0.00798719,  0.00768672,  0.00748282,  0.00718921,\n",
       "        0.00697742,  0.00686913,  0.00672539,  0.00653582,  0.00639065,\n",
       "        0.00615715,  0.00610442,  0.00597399,  0.0058998 ,  0.00580447,\n",
       "        0.00564036,  0.00559523,  0.00536031,  0.0051561 ,  0.00511048,\n",
       "        0.00489415,  0.00463656,  0.00461056,  0.00440129,  0.00429042,\n",
       "        0.00424552,  0.0041283 ,  0.00394329,  0.00373857,  0.00370432,\n",
       "        0.00364843,  0.00353301,  0.00350704,  0.00338787,  0.00332829,\n",
       "        0.00329412,  0.00325485,  0.00321134,  0.00317517,  0.00311247,\n",
       "        0.00310291,  0.00306282,  0.00301341,  0.00299648,  0.00294408,\n",
       "        0.00289051,  0.00285884,  0.00281343,  0.00278288,  0.00270216,\n",
       "        0.00268188,  0.00267073,  0.00261839,  0.00260251,  0.0025497 ,\n",
       "        0.00252465,  0.00251093,  0.00248634,  0.00247618,  0.00246327,\n",
       "        0.00244459,  0.00241916,  0.00237645,  0.00233486,  0.0023044 ,\n",
       "        0.00227585,  0.00225244,  0.00221739,  0.00218943,  0.00217878,\n",
       "        0.00214368,  0.00211985,  0.00210223,  0.00206948,  0.002043  ,\n",
       "        0.00202774,  0.00200556,  0.00200307,  0.0019868 ,  0.00194309,\n",
       "        0.00193953,  0.00192024,  0.00188325,  0.00187247,  0.00184359,\n",
       "        0.00181467,  0.00180777,  0.00176098,  0.00172452,  0.001709  ,\n",
       "        0.00166716,  0.00165819,  0.00162858,  0.00161698,  0.00161288,\n",
       "        0.00157615,  0.00156318,  0.00154494,  0.00153475,  0.00151803,\n",
       "        0.00148952,  0.00148344,  0.00146828,  0.001442  ,  0.00142728,\n",
       "        0.00140452,  0.00139987,  0.00139384,  0.00137413,  0.00135898,\n",
       "        0.00134767,  0.00134427,  0.00132228,  0.00130884,  0.00130046,\n",
       "        0.00128266,  0.00127137,  0.00126031,  0.00125401,  0.00124852,\n",
       "        0.001223  ,  0.00121183,  0.00119696,  0.00118366,  0.00116934,\n",
       "        0.0011538 ,  0.00114631,  0.00113887,  0.00111143,  0.00109475,\n",
       "        0.00109093,  0.00106633,  0.00105102,  0.0010217 ,  0.001012  ,\n",
       "        0.00100555])"
      ]
     },
     "execution_count": 206,
     "metadata": {},
     "output_type": "execute_result"
    }
   ],
   "source": [
    "pca.explained_variance_ratio_"
   ]
  },
  {
   "cell_type": "code",
   "execution_count": 207,
   "metadata": {
    "collapsed": false
   },
   "outputs": [
    {
     "name": "stdout",
     "output_type": "stream",
     "text": [
      "X_train_pca Shape: (2623L, 156L), y_train Shape: (2623L,)\n",
      "X_test_pca Shape: (656L, 156L), y_test Shape: (656L,)\n"
     ]
    }
   ],
   "source": [
    "print 'X_train_pca Shape: %s, y_train Shape: %s' % (str(X_train_pca.shape), str(y_train.shape))\n",
    "print 'X_test_pca Shape: %s, y_test Shape: %s' % (str(X_test_pca.shape), str(y_test.shape))"
   ]
  },
  {
   "cell_type": "markdown",
   "metadata": {},
   "source": [
    "### Logistic Regression"
   ]
  },
  {
   "cell_type": "code",
   "execution_count": 208,
   "metadata": {
    "collapsed": false
   },
   "outputs": [
    {
     "name": "stdout",
     "output_type": "stream",
     "text": [
      "Wall time: 177 ms\n"
     ]
    },
    {
     "data": {
      "text/plain": [
       "LogisticRegression(C=1.0, class_weight=None, dual=False, fit_intercept=True,\n",
       "          intercept_scaling=1, max_iter=100, multi_class='ovr', n_jobs=1,\n",
       "          penalty='l2', random_state=None, solver='liblinear', tol=0.0001,\n",
       "          verbose=0, warm_start=False)"
      ]
     },
     "execution_count": 208,
     "metadata": {},
     "output_type": "execute_result"
    }
   ],
   "source": [
    "lr = LogisticRegression()\n",
    "%time lr.fit(X_train_pca, list(y_train))"
   ]
  },
  {
   "cell_type": "code",
   "execution_count": 209,
   "metadata": {
    "collapsed": true
   },
   "outputs": [],
   "source": [
    "y_predicted_lr = lr.predict(X_test_pca)\n",
    "y_predicted_proba_lr = lr.predict_proba(X_test_pca)\n",
    "y_predicted_proba_lr = np.asarray(zip(*y_predicted_proba_lr)[1])"
   ]
  },
  {
   "cell_type": "code",
   "execution_count": 210,
   "metadata": {
    "collapsed": false
   },
   "outputs": [
    {
     "data": {
      "text/plain": [
       "((656L,), (656L,), (656L,), (656L, 156L))"
      ]
     },
     "execution_count": 210,
     "metadata": {},
     "output_type": "execute_result"
    }
   ],
   "source": [
    "y_test.shape, y_predicted_lr.shape, y_predicted_proba_lr.shape, X_test_pca.shape"
   ]
  },
  {
   "cell_type": "code",
   "execution_count": 211,
   "metadata": {
    "collapsed": false
   },
   "outputs": [
    {
     "data": {
      "text/plain": [
       "({0, 1}, {0, 1})"
      ]
     },
     "execution_count": 211,
     "metadata": {},
     "output_type": "execute_result"
    }
   ],
   "source": [
    "set(y_test), set(y_predicted_lr)"
   ]
  },
  {
   "cell_type": "code",
   "execution_count": 212,
   "metadata": {
    "collapsed": false
   },
   "outputs": [
    {
     "name": "stdout",
     "output_type": "stream",
     "text": [
      "accuracy 0.966463414634\n",
      "confusion matrix\n",
      "[[561   5]\n",
      " [ 17  73]]\n",
      "(row=expected, col=predicted)\n",
      "             precision    recall  f1-score   support\n",
      "\n",
      "          0       0.97      0.99      0.98       566\n",
      "          1       0.94      0.81      0.87        90\n",
      "\n",
      "avg / total       0.97      0.97      0.97       656\n",
      "\n"
     ]
    }
   ],
   "source": [
    "print 'accuracy', accuracy_score(list(y_test), y_predicted_lr)\n",
    "print 'confusion matrix\\n', confusion_matrix(list(y_test), y_predicted_lr)\n",
    "print '(row=expected, col=predicted)'\n",
    "print classification_report(list(y_test),y_predicted_lr)"
   ]
  },
  {
   "cell_type": "markdown",
   "metadata": {},
   "source": [
    "### Random Forests"
   ]
  },
  {
   "cell_type": "code",
   "execution_count": 213,
   "metadata": {
    "collapsed": false
   },
   "outputs": [
    {
     "data": {
      "text/plain": [
       "((2623L, 156L), (2623L,))"
      ]
     },
     "execution_count": 213,
     "metadata": {},
     "output_type": "execute_result"
    }
   ],
   "source": [
    "X_train_pca.shape, y_train.shape"
   ]
  },
  {
   "cell_type": "code",
   "execution_count": 214,
   "metadata": {
    "collapsed": false
   },
   "outputs": [
    {
     "name": "stdout",
     "output_type": "stream",
     "text": [
      "Wall time: 2min 51s\n",
      "GridSearchCV(cv=None, error_score='raise',\n",
      "       estimator=RandomForestClassifier(bootstrap=True, class_weight=None, criterion='gini',\n",
      "            max_depth=None, max_features='auto', max_leaf_nodes=None,\n",
      "            min_samples_leaf=1, min_samples_split=2,\n",
      "            min_weight_fraction_leaf=0.0, n_estimators=10, n_jobs=1,\n",
      "            oob_score=False, random_state=47, verbose=0, warm_start=False),\n",
      "       fit_params={}, iid=True, n_jobs=1,\n",
      "       param_grid={'n_estimators': [5, 10, 50, 100, 200, 300, 400, 1000]},\n",
      "       pre_dispatch='2*n_jobs', refit=True, scoring=None, verbose=0)\n",
      "0.973694243233\n",
      "200\n"
     ]
    }
   ],
   "source": [
    "n_estimators_list = [5,10,50,100,200,300,400,1000]\n",
    "\n",
    "rfc = RandomForestClassifier(random_state=47)\n",
    "rfc_grid = GridSearchCV(estimator=rfc, param_grid=dict(n_estimators=n_estimators_list))\n",
    "%time rfc_grid.fit(X_train_pca, list(y_train))\n",
    "\n",
    "print(rfc_grid)\n",
    "# summarize the results of the grid search\n",
    "print(rfc_grid.best_score_)\n",
    "print(rfc_grid.best_estimator_.n_estimators)"
   ]
  },
  {
   "cell_type": "code",
   "execution_count": 215,
   "metadata": {
    "collapsed": false
   },
   "outputs": [
    {
     "name": "stdout",
     "output_type": "stream",
     "text": [
      "Accuracy:  0.97256097561\n",
      "\n",
      " Decision Tree Results\n",
      "Confusion Matrix: \n",
      "[[563   3]\n",
      " [ 15  75]]\n",
      "\n",
      " Classifcation Report\n",
      "             precision    recall  f1-score   support\n",
      "\n",
      "          0       0.97      0.99      0.98       566\n",
      "          1       0.96      0.83      0.89        90\n",
      "\n",
      "avg / total       0.97      0.97      0.97       656\n",
      "\n"
     ]
    }
   ],
   "source": [
    "y_predicted_rfc = rfc_grid.predict(X_test_pca)\n",
    "y_predicted_proba_rfc = rfc_grid.predict_proba(X_test_pca)\n",
    "y_predicted_proba_rfc = np.asarray(zip(*y_predicted_proba_rfc))[1]\n",
    "\n",
    "print 'Accuracy: ', accuracy_score(list(y_test), y_predicted_rfc)\n",
    "print '\\n Decision Tree Results\\nConfusion Matrix: '\n",
    "print confusion_matrix(list(y_test),y_predicted_rfc)\n",
    "print '\\n Classifcation Report'\n",
    "print classification_report(list(y_test),y_predicted_rfc)"
   ]
  },
  {
   "cell_type": "code",
   "execution_count": 216,
   "metadata": {
    "collapsed": true
   },
   "outputs": [],
   "source": [
    "#0.8 - 0.975609756098\n",
    "#0.9 - 0.97256097561\n",
    "#0.95 - 0.971036585366"
   ]
  },
  {
   "cell_type": "code",
   "execution_count": 217,
   "metadata": {
    "collapsed": false
   },
   "outputs": [],
   "source": [
    "#joblib.dump(rfc, 'model\\\\rfc\\\\rfc.pkl')\n",
    "#joblib.dump(rfc_grid, 'model\\\\rfc\\\\rfc_grid.pkl')"
   ]
  },
  {
   "cell_type": "code",
   "execution_count": 218,
   "metadata": {
    "collapsed": true
   },
   "outputs": [],
   "source": [
    "#rfc = joblib.load('model\\\\rfc\\\\rfc.pkl')\n",
    "#rfc_grid = joblib.load('model\\\\rfc\\\\rfc_grid.pkl')"
   ]
  },
  {
   "cell_type": "markdown",
   "metadata": {},
   "source": [
    "### Gradient Boosting Classifier"
   ]
  },
  {
   "cell_type": "code",
   "execution_count": 219,
   "metadata": {
    "collapsed": false
   },
   "outputs": [
    {
     "name": "stdout",
     "output_type": "stream",
     "text": [
      "Wall time: 3min 58s\n",
      "GridSearchCV(cv=None, error_score='raise',\n",
      "       estimator=GradientBoostingClassifier(init=None, learning_rate=0.1, loss='deviance',\n",
      "              max_depth=3, max_features=None, max_leaf_nodes=None,\n",
      "              min_samples_leaf=1, min_samples_split=2,\n",
      "              min_weight_fraction_leaf=0.0, n_estimators=100,\n",
      "              presort='auto', random_state=47, subsample=1.0, verbose=0,\n",
      "              warm_start=False),\n",
      "       fit_params={}, iid=True, n_jobs=1,\n",
      "       param_grid={'n_estimators': [5, 10, 50, 100, 200, 300, 400, 1000]},\n",
      "       pre_dispatch='2*n_jobs', refit=True, scoring=None, verbose=0)\n",
      "0.973313000381\n",
      "1000\n"
     ]
    }
   ],
   "source": [
    "gbc = GradientBoostingClassifier(random_state=47)\n",
    "\n",
    "n_estimators_list = [5,10,50,100,200,300,400,1000]\n",
    "gbc_grid = GridSearchCV(estimator=gbc, param_grid=dict(n_estimators=n_estimators_list))\n",
    "%time gbc_grid.fit(X_train_pca, list(y_train))\n",
    "\n",
    "print(gbc_grid)\n",
    "# summarize the results of the grid search\n",
    "print(gbc_grid.best_score_)\n",
    "print(gbc_grid.best_estimator_.n_estimators)"
   ]
  },
  {
   "cell_type": "code",
   "execution_count": 220,
   "metadata": {
    "collapsed": false,
    "scrolled": true
   },
   "outputs": [
    {
     "name": "stdout",
     "output_type": "stream",
     "text": [
      "Accuracy:  0.981707317073\n",
      "\n",
      " Decision Tree Results\n",
      "Confusion Matrix: \n",
      "[[562   4]\n",
      " [  8  82]]\n",
      "\n",
      " Classifcation Report\n",
      "             precision    recall  f1-score   support\n",
      "\n",
      "          0       0.99      0.99      0.99       566\n",
      "          1       0.95      0.91      0.93        90\n",
      "\n",
      "avg / total       0.98      0.98      0.98       656\n",
      "\n"
     ]
    }
   ],
   "source": [
    "y_predicted_gbc = gbc_grid.predict(X_test_pca)\n",
    "y_predicted_proba_gbc = gbc_grid.predict_proba(X_test_pca)\n",
    "y_predicted_proba_gbc = np.asarray(zip(*y_predicted_proba_gbc))[1]\n",
    "\n",
    "print 'Accuracy: ', accuracy_score(list(y_test), y_predicted_gbc)\n",
    "print '\\n Decision Tree Results\\nConfusion Matrix: '\n",
    "print confusion_matrix(list(y_test),y_predicted_gbc)\n",
    "print '\\n Classifcation Report'\n",
    "print classification_report(list(y_test),y_predicted_gbc)"
   ]
  },
  {
   "cell_type": "code",
   "execution_count": 186,
   "metadata": {
    "collapsed": true
   },
   "outputs": [],
   "source": [
    "#0.8 - 0.978658536585\n",
    "#0.9 - 0.981707317073"
   ]
  },
  {
   "cell_type": "code",
   "execution_count": 187,
   "metadata": {
    "collapsed": false
   },
   "outputs": [],
   "source": [
    "#joblib.dump(gbc, 'model\\\\gbc\\\\gbc.pkl')\n",
    "#joblib.dump(gbc_grid, 'model\\\\gbc\\\\gbc_grid.pkl')"
   ]
  },
  {
   "cell_type": "code",
   "execution_count": 25,
   "metadata": {
    "collapsed": false
   },
   "outputs": [],
   "source": [
    "#gbc = joblib.load('model\\\\gbc\\\\gbc.pkl')\n",
    "#gbc_grid = joblib.load('model\\\\gbc\\\\gbc_grid.pkl')"
   ]
  }
 ],
 "metadata": {
  "anaconda-cloud": {},
  "kernelspec": {
   "display_name": "Python 2",
   "language": "python",
   "name": "python2"
  },
  "language_info": {
   "codemirror_mode": {
    "name": "ipython",
    "version": 2
   },
   "file_extension": ".py",
   "mimetype": "text/x-python",
   "name": "python",
   "nbconvert_exporter": "python",
   "pygments_lexer": "ipython2",
   "version": "2.7.13"
  }
 },
 "nbformat": 4,
 "nbformat_minor": 0
}
