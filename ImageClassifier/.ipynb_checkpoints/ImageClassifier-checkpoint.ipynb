{
 "cells": [
  {
   "cell_type": "markdown",
   "metadata": {},
   "source": [
    "# Image classifier using DNN"
   ]
  },
  {
   "cell_type": "markdown",
   "metadata": {},
   "source": [
    "### Import Libraries"
   ]
  },
  {
   "cell_type": "code",
   "execution_count": 5,
   "metadata": {
    "collapsed": false
   },
   "outputs": [],
   "source": [
    "%matplotlib inline\n",
    "import matplotlib.pyplot as plt\n",
    "import pandas as pd\n",
    "import numpy as np\n",
    "from sklearn import cross_validation\n",
    "from sklearn.decomposition import PCA\n",
    "from scipy.io import loadmat\n",
    "from keras.models import Sequential\n",
    "from keras.layers import Dense\n",
    "from keras.regularizers import l2, l1\n",
    "from keras.optimizers import SGD\n",
    "np.random.seed(1)"
   ]
  },
  {
   "cell_type": "markdown",
   "metadata": {},
   "source": [
    "### Read Data"
   ]
  },
  {
   "cell_type": "code",
   "execution_count": 3,
   "metadata": {
    "collapsed": false
   },
   "outputs": [
    {
     "name": "stdout",
     "output_type": "stream",
     "text": [
      "(28, 28, 18724)\n",
      "(18724, 784)\n",
      "(18724, 10)\n"
     ]
    },
    {
     "data": {
      "text/plain": [
       "array([ 0.        ,  0.00392157,  0.        ,  0.        ,  0.        ,\n",
       "        0.        ,  0.        ,  0.        ,  0.        ,  0.        ,\n",
       "        0.03137255,  0.16078432,  0.38039216,  0.65098041,  0.87058824,\n",
       "        0.97647059,  0.90588236,  0.66274512,  0.40000001,  0.11764706], dtype=float32)"
      ]
     },
     "execution_count": 3,
     "metadata": {},
     "output_type": "execute_result"
    }
   ],
   "source": [
    "data = loadmat('notMNIST_small.mat')\n",
    "X_temp = data['images']/255\n",
    "\n",
    "  \n",
    "X = np.empty(shape=[X_temp.shape[2]] + [784], dtype='float32')\n",
    "for i in range(X_temp.shape[2]):\n",
    "    X[i,:] = X_temp[:,:,i].flatten()\n",
    "\n",
    "y = pd.get_dummies(data['labels']).as_matrix()\n",
    "\n",
    "print X_temp.shape\n",
    "print X.shape\n",
    "print y.shape\n",
    "X[1,:20]"
   ]
  },
  {
   "cell_type": "code",
   "execution_count": 5,
   "metadata": {
    "collapsed": false
   },
   "outputs": [
    {
     "name": "stdout",
     "output_type": "stream",
     "text": [
      "(28L, 28L)\n"
     ]
    },
    {
     "data": {
      "image/png": "[encoded data removed]",
      "text/plain": [
       "<matplotlib.figure.Figure at 0xb0eb470>"
      ]
     },
     "metadata": {},
     "output_type": "display_data"
    }
   ],
   "source": [
    "print X_temp[:,:,3].shape\n",
    "plt.imshow(X_temp[:,:,3],cmap=\"gray\");"
   ]
  },
  {
   "cell_type": "code",
   "execution_count": 6,
   "metadata": {
    "collapsed": false
   },
   "outputs": [
    {
     "data": {
      "image/png": "[encoded data removed]",
      "text/plain": [
       "<matplotlib.figure.Figure at 0xb0e2198>"
      ]
     },
     "metadata": {},
     "output_type": "display_data"
    }
   ],
   "source": [
    "plt.imshow(X_temp[:,:,4504],cmap=\"gray\");"
   ]
  },
  {
   "cell_type": "markdown",
   "metadata": {},
   "source": [
    "### Split Data into Training and Validation"
   ]
  },
  {
   "cell_type": "code",
   "execution_count": 7,
   "metadata": {
    "collapsed": false
   },
   "outputs": [
    {
     "name": "stdout",
     "output_type": "stream",
     "text": [
      "(14979L, 784L)\n",
      "(14979L, 10L)\n"
     ]
    }
   ],
   "source": [
    "X_train, X_test, y_train, y_test = cross_validation.train_test_split(\n",
    "    X, y, test_size=0.2, random_state=50)\n",
    "print X_train.shape\n",
    "print y_train.shape"
   ]
  },
  {
   "cell_type": "markdown",
   "metadata": {},
   "source": [
    "### Build DNN"
   ]
  },
  {
   "cell_type": "code",
   "execution_count": 30,
   "metadata": {
    "collapsed": false
   },
   "outputs": [],
   "source": [
    "model = Sequential()\n",
    "\n",
    "model.add(Dense(output_dim=392, input_shape=[X_train.shape[1]], activation='relu', W_regularizer=l2(0)))\n",
    "model.add(Dense(output_dim=392, activation='relu'))\n",
    "model.add(Dense(output_dim=392, activation='relu'))\n",
    "model.add(Dense(output_dim=392, activation='relu'))\n",
    "model.add(Dense(output_dim=392, activation='relu'))\n",
    "model.add(Dense(output_dim=10, activation='sigmoid'))\n",
    "\n",
    "\n",
    "# Compile model\n",
    "sgd = SGD(lr=0.1)\n",
    "model.compile(loss='categorical_crossentropy', optimizer=sgd)\n",
    "#model.compile(loss='mean_squared_error', optimizer=sgd)"
   ]
  },
  {
   "cell_type": "code",
   "execution_count": 31,
   "metadata": {
    "collapsed": false
   },
   "outputs": [
    {
     "name": "stdout",
     "output_type": "stream",
     "text": [
      "____________________________________________________________________________________________________\n",
      "Layer (type)                     Output Shape          Param #     Connected to                     \n",
      "====================================================================================================\n",
      "dense_61 (Dense)                 (None, 392)           307720      dense_input_11[0][0]             \n",
      "____________________________________________________________________________________________________\n",
      "dense_62 (Dense)                 (None, 392)           154056      dense_61[0][0]                   \n",
      "____________________________________________________________________________________________________\n",
      "dense_63 (Dense)                 (None, 392)           154056      dense_62[0][0]                   \n",
      "____________________________________________________________________________________________________\n",
      "dense_64 (Dense)                 (None, 392)           154056      dense_63[0][0]                   \n",
      "____________________________________________________________________________________________________\n",
      "dense_65 (Dense)                 (None, 392)           154056      dense_64[0][0]                   \n",
      "____________________________________________________________________________________________________\n",
      "dense_66 (Dense)                 (None, 10)            3930        dense_65[0][0]                   \n",
      "====================================================================================================\n",
      "Total params: 927874\n",
      "____________________________________________________________________________________________________\n"
     ]
    }
   ],
   "source": [
    "model.summary()"
   ]
  },
  {
   "cell_type": "markdown",
   "metadata": {},
   "source": [
    "### Train DNN"
   ]
  },
  {
   "cell_type": "code",
   "execution_count": 32,
   "metadata": {
    "collapsed": false
   },
   "outputs": [
    {
     "name": "stdout",
     "output_type": "stream",
     "text": [
      "Train on 14979 samples, validate on 3745 samples\n",
      "Epoch 1/20\n",
      "1s - loss: 1.7434 - val_loss: 0.7378\n",
      "Epoch 2/20\n",
      "1s - loss: 0.6447 - val_loss: 0.4256\n",
      "Epoch 3/20\n",
      "1s - loss: 0.4258 - val_loss: 0.3686\n",
      "Epoch 4/20\n",
      "1s - loss: 0.3546 - val_loss: 0.3570\n",
      "Epoch 5/20\n",
      "1s - loss: 0.3186 - val_loss: 0.3581\n",
      "Epoch 6/20\n",
      "1s - loss: 0.2940 - val_loss: 0.3528\n",
      "Epoch 7/20\n",
      "1s - loss: 0.2830 - val_loss: 0.3853\n",
      "Epoch 8/20\n",
      "1s - loss: 0.2594 - val_loss: 0.3133\n",
      "Epoch 9/20\n",
      "1s - loss: 0.2433 - val_loss: 0.3164\n",
      "Epoch 10/20\n",
      "1s - loss: 0.2314 - val_loss: 0.3217\n",
      "Epoch 11/20\n",
      "1s - loss: 0.2226 - val_loss: 0.3281\n",
      "Epoch 12/20\n",
      "1s - loss: 0.2387 - val_loss: 0.3954\n",
      "Epoch 13/20\n",
      "1s - loss: 0.1902 - val_loss: 0.3228\n",
      "Epoch 14/20\n",
      "1s - loss: 0.1872 - val_loss: 0.2801\n",
      "Epoch 15/20\n",
      "1s - loss: 0.1613 - val_loss: 0.3021\n",
      "Epoch 16/20\n",
      "1s - loss: 0.1514 - val_loss: 0.3047\n",
      "Epoch 17/20\n",
      "1s - loss: 0.1483 - val_loss: 0.3466\n",
      "Epoch 18/20\n",
      "1s - loss: 0.1294 - val_loss: 0.4374\n",
      "Epoch 19/20\n",
      "1s - loss: 0.7263 - val_loss: 0.3419\n",
      "Epoch 20/20\n",
      "2s - loss: 0.1803 - val_loss: 0.3776\n"
     ]
    }
   ],
   "source": [
    "# Fit the model\n",
    "history = model.fit(X_train, y_train, batch_size = 256,\n",
    "          nb_epoch = 20, verbose=2, validation_data=(X_test,y_test))"
   ]
  },
  {
   "cell_type": "code",
   "execution_count": 33,
   "metadata": {
    "collapsed": false
   },
   "outputs": [
    {
     "name": "stdout",
     "output_type": "stream",
     "text": [
      "Loss after final iteration:  0.37759188907\n"
     ]
    },
    {
     "data": {
      "image/png": "[encoded data removed]",
      "text/plain": [
       "<matplotlib.figure.Figure at 0x2ce06978>"
      ]
     },
     "metadata": {},
     "output_type": "display_data"
    }
   ],
   "source": [
    "fig = plt.figure(figsize=(6,4))\n",
    "# # summarize history for loss\n",
    "plt.plot(history.history['loss'])\n",
    "plt.plot(history.history['val_loss'], 'g--')\n",
    "plt.title('Model Loss')\n",
    "plt.ylabel('Error')\n",
    "plt.xlabel('Epoch')\n",
    "plt.legend(['Training Loss', 'Testing Loss'], loc='upper right')\n",
    "print \"Loss after final iteration: \", history.history['val_loss'][-1]\n",
    "plt.show()"
   ]
  }
 ],
 "metadata": {
  "anaconda-cloud": {},
  "kernelspec": {
   "display_name": "Python 2",
   "language": "python",
   "name": "python2"
  },
  "language_info": {
   "codemirror_mode": {
    "name": "ipython",
    "version": 2
   },
   "file_extension": ".py",
   "mimetype": "text/x-python",
   "name": "python",
   "nbconvert_exporter": "python",
   "pygments_lexer": "ipython2",
   "version": "2.7.13"
  }
 },
 "nbformat": 4,
 "nbformat_minor": 0
}
